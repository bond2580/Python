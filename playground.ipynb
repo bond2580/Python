{
  "nbformat": 4,
  "nbformat_minor": 0,
  "metadata": {
    "colab": {
      "name": "playground.ipynb",
      "provenance": [],
      "collapsed_sections": [],
      "toc_visible": true
    },
    "kernelspec": {
      "name": "python3",
      "display_name": "Python 3"
    },
    "language_info": {
      "name": "python"
    }
  },
  "cells": [
    {
      "cell_type": "code",
      "metadata": {
        "id": "iHZDTBRi2vsI"
      },
      "source": [
        "#Kaggleのコンペで作成したプログラム\n",
        "#https://www.kaggle.com/c/tabular-playground-series-may-2021/\n",
        "import numpy as np\n",
        "import pandas as pd\n",
        "import matplotlib.pyplot as plt\n",
        "from sklearn.model_selection import GridSearchCV"
      ],
      "execution_count": 1,
      "outputs": []
    },
    {
      "cell_type": "code",
      "metadata": {
        "id": "CQdLNP9021pP"
      },
      "source": [
        "#データ読み込み\n",
        "train_x = pd.read_csv(\"train.csv\")\n",
        "test_x = pd.read_csv(\"test.csv\")\n",
        "\n",
        "train_y = train_x[\"target\"]\n",
        "test_id = test_x[\"id\"]\n",
        "\n",
        "train_x = train_x.drop([\"id\", \"target\"], axis=1)\n",
        "test_x = test_x.drop([\"id\"], axis=1)\n"
      ],
      "execution_count": 76,
      "outputs": []
    },
    {
      "cell_type": "code",
      "metadata": {
        "id": "rjkkVCz33cCF",
        "colab": {
          "base_uri": "https://localhost:8080/"
        },
        "outputId": "9b8175e4-e747-40bc-ee04-8da6127251c2"
      },
      "source": [
        "#欠損値の有無の確認\n",
        "train_x.isna().sum()"
      ],
      "execution_count": 77,
      "outputs": [
        {
          "output_type": "execute_result",
          "data": {
            "text/plain": [
              "feature_0     0\n",
              "feature_1     0\n",
              "feature_2     0\n",
              "feature_3     0\n",
              "feature_4     0\n",
              "feature_5     0\n",
              "feature_6     0\n",
              "feature_7     0\n",
              "feature_8     0\n",
              "feature_9     0\n",
              "feature_10    0\n",
              "feature_11    0\n",
              "feature_12    0\n",
              "feature_13    0\n",
              "feature_14    0\n",
              "feature_15    0\n",
              "feature_16    0\n",
              "feature_17    0\n",
              "feature_18    0\n",
              "feature_19    0\n",
              "feature_20    0\n",
              "feature_21    0\n",
              "feature_22    0\n",
              "feature_23    0\n",
              "feature_24    0\n",
              "feature_25    0\n",
              "feature_26    0\n",
              "feature_27    0\n",
              "feature_28    0\n",
              "feature_29    0\n",
              "feature_30    0\n",
              "feature_31    0\n",
              "feature_32    0\n",
              "feature_33    0\n",
              "feature_34    0\n",
              "feature_35    0\n",
              "feature_36    0\n",
              "feature_37    0\n",
              "feature_38    0\n",
              "feature_39    0\n",
              "feature_40    0\n",
              "feature_41    0\n",
              "feature_42    0\n",
              "feature_43    0\n",
              "feature_44    0\n",
              "feature_45    0\n",
              "feature_46    0\n",
              "feature_47    0\n",
              "feature_48    0\n",
              "feature_49    0\n",
              "dtype: int64"
            ]
          },
          "metadata": {
            "tags": []
          },
          "execution_count": 77
        }
      ]
    },
    {
      "cell_type": "code",
      "metadata": {
        "colab": {
          "base_uri": "https://localhost:8080/"
        },
        "id": "NZ_cFRz94m2o",
        "outputId": "b068e51b-a83f-49bc-9899-d0aba6d1887b"
      },
      "source": [
        "#データの標準化\n",
        "from sklearn.preprocessing import StandardScaler\n",
        "\n",
        "scaler= StandardScaler()\n",
        "scaler.fit(train_x)\n"
      ],
      "execution_count": 78,
      "outputs": [
        {
          "output_type": "execute_result",
          "data": {
            "text/plain": [
              "StandardScaler(copy=True, with_mean=True, with_std=True)"
            ]
          },
          "metadata": {
            "tags": []
          },
          "execution_count": 78
        }
      ]
    },
    {
      "cell_type": "code",
      "metadata": {
        "colab": {
          "base_uri": "https://localhost:8080/",
          "height": 223
        },
        "id": "p_WOchT3DWps",
        "outputId": "b6704fc4-1f1f-4440-8f5a-98df280c4004"
      },
      "source": [
        "#トレーニングデータとテスト用データを標準化\n",
        "col = train_x.columns\n",
        "train_X = scaler.fit_transform(train_x)\n",
        "train_X = pd.DataFrame(train_X, columns=col)\n",
        "train_X.head()\n",
        "\n",
        "col = test_x.columns\n",
        "test_X = scaler.fit_transform(test_x)\n",
        "test_X = pd.DataFrame(test_X, columns=col)\n",
        "test_X.head()"
      ],
      "execution_count": 79,
      "outputs": [
        {
          "output_type": "execute_result",
          "data": {
            "text/html": [
              "<div>\n",
              "<style scoped>\n",
              "    .dataframe tbody tr th:only-of-type {\n",
              "        vertical-align: middle;\n",
              "    }\n",
              "\n",
              "    .dataframe tbody tr th {\n",
              "        vertical-align: top;\n",
              "    }\n",
              "\n",
              "    .dataframe thead th {\n",
              "        text-align: right;\n",
              "    }\n",
              "</style>\n",
              "<table border=\"1\" class=\"dataframe\">\n",
              "  <thead>\n",
              "    <tr style=\"text-align: right;\">\n",
              "      <th></th>\n",
              "      <th>feature_0</th>\n",
              "      <th>feature_1</th>\n",
              "      <th>feature_2</th>\n",
              "      <th>feature_3</th>\n",
              "      <th>feature_4</th>\n",
              "      <th>feature_5</th>\n",
              "      <th>feature_6</th>\n",
              "      <th>feature_7</th>\n",
              "      <th>feature_8</th>\n",
              "      <th>feature_9</th>\n",
              "      <th>feature_10</th>\n",
              "      <th>feature_11</th>\n",
              "      <th>feature_12</th>\n",
              "      <th>feature_13</th>\n",
              "      <th>feature_14</th>\n",
              "      <th>feature_15</th>\n",
              "      <th>feature_16</th>\n",
              "      <th>feature_17</th>\n",
              "      <th>feature_18</th>\n",
              "      <th>feature_19</th>\n",
              "      <th>feature_20</th>\n",
              "      <th>feature_21</th>\n",
              "      <th>feature_22</th>\n",
              "      <th>feature_23</th>\n",
              "      <th>feature_24</th>\n",
              "      <th>feature_25</th>\n",
              "      <th>feature_26</th>\n",
              "      <th>feature_27</th>\n",
              "      <th>feature_28</th>\n",
              "      <th>feature_29</th>\n",
              "      <th>feature_30</th>\n",
              "      <th>feature_31</th>\n",
              "      <th>feature_32</th>\n",
              "      <th>feature_33</th>\n",
              "      <th>feature_34</th>\n",
              "      <th>feature_35</th>\n",
              "      <th>feature_36</th>\n",
              "      <th>feature_37</th>\n",
              "      <th>feature_38</th>\n",
              "      <th>feature_39</th>\n",
              "      <th>feature_40</th>\n",
              "      <th>feature_41</th>\n",
              "      <th>feature_42</th>\n",
              "      <th>feature_43</th>\n",
              "      <th>feature_44</th>\n",
              "      <th>feature_45</th>\n",
              "      <th>feature_46</th>\n",
              "      <th>feature_47</th>\n",
              "      <th>feature_48</th>\n",
              "      <th>feature_49</th>\n",
              "    </tr>\n",
              "  </thead>\n",
              "  <tbody>\n",
              "    <tr>\n",
              "      <th>0</th>\n",
              "      <td>-0.279618</td>\n",
              "      <td>-0.22124</td>\n",
              "      <td>-0.222408</td>\n",
              "      <td>-0.322172</td>\n",
              "      <td>-0.217283</td>\n",
              "      <td>-0.26661</td>\n",
              "      <td>1.383226</td>\n",
              "      <td>1.012438</td>\n",
              "      <td>-0.263498</td>\n",
              "      <td>-0.492291</td>\n",
              "      <td>4.118099</td>\n",
              "      <td>-0.398401</td>\n",
              "      <td>-0.409536</td>\n",
              "      <td>-0.211997</td>\n",
              "      <td>-0.564329</td>\n",
              "      <td>-0.118110</td>\n",
              "      <td>0.514958</td>\n",
              "      <td>-0.407637</td>\n",
              "      <td>0.483380</td>\n",
              "      <td>-0.324033</td>\n",
              "      <td>0.804112</td>\n",
              "      <td>-0.304131</td>\n",
              "      <td>-0.335125</td>\n",
              "      <td>-0.323331</td>\n",
              "      <td>-0.410336</td>\n",
              "      <td>-0.311347</td>\n",
              "      <td>3.022757</td>\n",
              "      <td>-0.189038</td>\n",
              "      <td>2.066638</td>\n",
              "      <td>-0.232001</td>\n",
              "      <td>-0.221715</td>\n",
              "      <td>-0.415154</td>\n",
              "      <td>-0.188474</td>\n",
              "      <td>-0.269111</td>\n",
              "      <td>-0.452089</td>\n",
              "      <td>-0.309805</td>\n",
              "      <td>-0.285447</td>\n",
              "      <td>-0.36434</td>\n",
              "      <td>0.188783</td>\n",
              "      <td>-0.179209</td>\n",
              "      <td>-0.411170</td>\n",
              "      <td>-0.290131</td>\n",
              "      <td>-0.226788</td>\n",
              "      <td>-0.262982</td>\n",
              "      <td>-0.214582</td>\n",
              "      <td>-0.240273</td>\n",
              "      <td>-0.240460</td>\n",
              "      <td>-0.267590</td>\n",
              "      <td>-0.374496</td>\n",
              "      <td>-0.332698</td>\n",
              "    </tr>\n",
              "    <tr>\n",
              "      <th>1</th>\n",
              "      <td>-0.279618</td>\n",
              "      <td>-0.22124</td>\n",
              "      <td>1.683075</td>\n",
              "      <td>-0.322172</td>\n",
              "      <td>-0.217283</td>\n",
              "      <td>-0.26661</td>\n",
              "      <td>0.533056</td>\n",
              "      <td>-0.453822</td>\n",
              "      <td>1.817284</td>\n",
              "      <td>3.166234</td>\n",
              "      <td>-0.284552</td>\n",
              "      <td>-0.398401</td>\n",
              "      <td>-0.409536</td>\n",
              "      <td>-0.211997</td>\n",
              "      <td>-0.564329</td>\n",
              "      <td>0.804480</td>\n",
              "      <td>-0.285213</td>\n",
              "      <td>-0.407637</td>\n",
              "      <td>1.396623</td>\n",
              "      <td>-0.324033</td>\n",
              "      <td>-0.259613</td>\n",
              "      <td>-0.304131</td>\n",
              "      <td>-0.335125</td>\n",
              "      <td>-0.323331</td>\n",
              "      <td>-0.410336</td>\n",
              "      <td>-0.311347</td>\n",
              "      <td>2.369010</td>\n",
              "      <td>-0.189038</td>\n",
              "      <td>0.473338</td>\n",
              "      <td>-0.232001</td>\n",
              "      <td>-0.221715</td>\n",
              "      <td>0.195726</td>\n",
              "      <td>-0.188474</td>\n",
              "      <td>1.077342</td>\n",
              "      <td>1.993000</td>\n",
              "      <td>0.698194</td>\n",
              "      <td>-0.285447</td>\n",
              "      <td>-0.36434</td>\n",
              "      <td>0.563145</td>\n",
              "      <td>-0.179209</td>\n",
              "      <td>1.304038</td>\n",
              "      <td>-0.290131</td>\n",
              "      <td>0.199169</td>\n",
              "      <td>-0.262982</td>\n",
              "      <td>-0.214582</td>\n",
              "      <td>-0.240273</td>\n",
              "      <td>0.215752</td>\n",
              "      <td>-0.267590</td>\n",
              "      <td>0.383900</td>\n",
              "      <td>0.255503</td>\n",
              "    </tr>\n",
              "    <tr>\n",
              "      <th>2</th>\n",
              "      <td>-0.279618</td>\n",
              "      <td>-0.22124</td>\n",
              "      <td>-0.222408</td>\n",
              "      <td>-0.322172</td>\n",
              "      <td>-0.217283</td>\n",
              "      <td>-0.26661</td>\n",
              "      <td>-0.317113</td>\n",
              "      <td>-0.453822</td>\n",
              "      <td>0.033756</td>\n",
              "      <td>-0.492291</td>\n",
              "      <td>-0.284552</td>\n",
              "      <td>-0.398401</td>\n",
              "      <td>-0.409536</td>\n",
              "      <td>-0.211997</td>\n",
              "      <td>-0.564329</td>\n",
              "      <td>-0.579405</td>\n",
              "      <td>-0.285213</td>\n",
              "      <td>-0.407637</td>\n",
              "      <td>-0.429864</td>\n",
              "      <td>4.011613</td>\n",
              "      <td>-0.259613</td>\n",
              "      <td>-0.304131</td>\n",
              "      <td>-0.335125</td>\n",
              "      <td>-0.323331</td>\n",
              "      <td>1.166333</td>\n",
              "      <td>2.722484</td>\n",
              "      <td>-0.245979</td>\n",
              "      <td>-0.189038</td>\n",
              "      <td>-0.588863</td>\n",
              "      <td>-0.232001</td>\n",
              "      <td>-0.221715</td>\n",
              "      <td>0.501166</td>\n",
              "      <td>-0.188474</td>\n",
              "      <td>-0.269111</td>\n",
              "      <td>-0.452089</td>\n",
              "      <td>-0.309805</td>\n",
              "      <td>-0.285447</td>\n",
              "      <td>1.48717</td>\n",
              "      <td>1.499050</td>\n",
              "      <td>-0.179209</td>\n",
              "      <td>-0.411170</td>\n",
              "      <td>-0.290131</td>\n",
              "      <td>-0.226788</td>\n",
              "      <td>0.165174</td>\n",
              "      <td>-0.214582</td>\n",
              "      <td>-0.240273</td>\n",
              "      <td>-0.240460</td>\n",
              "      <td>-0.267590</td>\n",
              "      <td>1.900693</td>\n",
              "      <td>-0.332698</td>\n",
              "    </tr>\n",
              "    <tr>\n",
              "      <th>3</th>\n",
              "      <td>-0.279618</td>\n",
              "      <td>-0.22124</td>\n",
              "      <td>-0.222408</td>\n",
              "      <td>-0.322172</td>\n",
              "      <td>-0.217283</td>\n",
              "      <td>-0.26661</td>\n",
              "      <td>-0.317113</td>\n",
              "      <td>-0.087257</td>\n",
              "      <td>0.033756</td>\n",
              "      <td>-0.492291</td>\n",
              "      <td>-0.284552</td>\n",
              "      <td>-0.398401</td>\n",
              "      <td>-0.409536</td>\n",
              "      <td>-0.211997</td>\n",
              "      <td>-0.564329</td>\n",
              "      <td>-0.118110</td>\n",
              "      <td>-0.285213</td>\n",
              "      <td>-0.407637</td>\n",
              "      <td>-0.429864</td>\n",
              "      <td>0.543096</td>\n",
              "      <td>0.804112</td>\n",
              "      <td>-0.304131</td>\n",
              "      <td>-0.335125</td>\n",
              "      <td>0.494483</td>\n",
              "      <td>-0.410336</td>\n",
              "      <td>-0.311347</td>\n",
              "      <td>0.407768</td>\n",
              "      <td>0.445701</td>\n",
              "      <td>-0.057762</td>\n",
              "      <td>-0.232001</td>\n",
              "      <td>-0.221715</td>\n",
              "      <td>-0.415154</td>\n",
              "      <td>0.490661</td>\n",
              "      <td>1.526160</td>\n",
              "      <td>-0.452089</td>\n",
              "      <td>-0.309805</td>\n",
              "      <td>-0.285447</td>\n",
              "      <td>-0.36434</td>\n",
              "      <td>-0.559941</td>\n",
              "      <td>-0.179209</td>\n",
              "      <td>-0.411170</td>\n",
              "      <td>-0.290131</td>\n",
              "      <td>-0.226788</td>\n",
              "      <td>-0.262982</td>\n",
              "      <td>-0.214582</td>\n",
              "      <td>-0.240273</td>\n",
              "      <td>2.496811</td>\n",
              "      <td>5.935877</td>\n",
              "      <td>4.934278</td>\n",
              "      <td>1.431905</td>\n",
              "    </tr>\n",
              "    <tr>\n",
              "      <th>4</th>\n",
              "      <td>-0.279618</td>\n",
              "      <td>-0.22124</td>\n",
              "      <td>-0.222408</td>\n",
              "      <td>-0.322172</td>\n",
              "      <td>-0.217283</td>\n",
              "      <td>-0.26661</td>\n",
              "      <td>0.107972</td>\n",
              "      <td>-0.453822</td>\n",
              "      <td>0.925520</td>\n",
              "      <td>-0.492291</td>\n",
              "      <td>-0.284552</td>\n",
              "      <td>0.579559</td>\n",
              "      <td>-0.409536</td>\n",
              "      <td>-0.211997</td>\n",
              "      <td>1.383455</td>\n",
              "      <td>-0.579405</td>\n",
              "      <td>-0.285213</td>\n",
              "      <td>-0.407637</td>\n",
              "      <td>-0.429864</td>\n",
              "      <td>-0.324033</td>\n",
              "      <td>-0.259613</td>\n",
              "      <td>1.079371</td>\n",
              "      <td>-0.335125</td>\n",
              "      <td>-0.323331</td>\n",
              "      <td>-0.410336</td>\n",
              "      <td>-0.311347</td>\n",
              "      <td>-0.245979</td>\n",
              "      <td>-0.189038</td>\n",
              "      <td>0.473338</td>\n",
              "      <td>-0.232001</td>\n",
              "      <td>-0.221715</td>\n",
              "      <td>-0.109714</td>\n",
              "      <td>0.490661</td>\n",
              "      <td>-0.269111</td>\n",
              "      <td>-0.044574</td>\n",
              "      <td>-0.309805</td>\n",
              "      <td>-0.285447</td>\n",
              "      <td>-0.36434</td>\n",
              "      <td>-0.559941</td>\n",
              "      <td>-0.179209</td>\n",
              "      <td>0.160566</td>\n",
              "      <td>-0.290131</td>\n",
              "      <td>-0.226788</td>\n",
              "      <td>-0.262982</td>\n",
              "      <td>-0.214582</td>\n",
              "      <td>-0.240273</td>\n",
              "      <td>-0.240460</td>\n",
              "      <td>-0.267590</td>\n",
              "      <td>-0.374496</td>\n",
              "      <td>-0.332698</td>\n",
              "    </tr>\n",
              "  </tbody>\n",
              "</table>\n",
              "</div>"
            ],
            "text/plain": [
              "   feature_0  feature_1  feature_2  ...  feature_47  feature_48  feature_49\n",
              "0  -0.279618   -0.22124  -0.222408  ...   -0.267590   -0.374496   -0.332698\n",
              "1  -0.279618   -0.22124   1.683075  ...   -0.267590    0.383900    0.255503\n",
              "2  -0.279618   -0.22124  -0.222408  ...   -0.267590    1.900693   -0.332698\n",
              "3  -0.279618   -0.22124  -0.222408  ...    5.935877    4.934278    1.431905\n",
              "4  -0.279618   -0.22124  -0.222408  ...   -0.267590   -0.374496   -0.332698\n",
              "\n",
              "[5 rows x 50 columns]"
            ]
          },
          "metadata": {
            "tags": []
          },
          "execution_count": 79
        }
      ]
    },
    {
      "cell_type": "code",
      "metadata": {
        "colab": {
          "base_uri": "https://localhost:8080/",
          "height": 288
        },
        "id": "ByDqlEP2xPxZ",
        "outputId": "bfe6eace-c63f-4cb0-cee4-1f2855edad77"
      },
      "source": [
        "#分類クラスの偏りを確認\n",
        "plt.hist(train_y)\n",
        "plt.xlabel(\"class name\", fontsize=15)\n",
        "plt.ylabel(\"number of sample\", fontsize=15)\n",
        "\n",
        "plt.grid()\n",
        "plt.savefig(\"pm1.png\")\n",
        "plt.show()"
      ],
      "execution_count": 80,
      "outputs": [
        {
          "output_type": "display_data",
          "data": {
            "image/png": "[encoded data removed]",
            "text/plain": [
              "<Figure size 432x288 with 1 Axes>"
            ]
          },
          "metadata": {
            "tags": [],
            "needs_background": "light"
          }
        }
      ]
    },
    {
      "cell_type": "code",
      "metadata": {
        "id": "E_UAJolCQvWa"
      },
      "source": [
        "#Class_i -> (i-1)にラベルを変更\n",
        "for i in range(1,5):\n",
        "  train_y[train_y =='Class_' + str(i)] = str(i-1)"
      ],
      "execution_count": 81,
      "outputs": []
    },
    {
      "cell_type": "code",
      "metadata": {
        "colab": {
          "base_uri": "https://localhost:8080/"
        },
        "id": "UeF_O60d3NZW",
        "outputId": "6df33990-c0f3-446a-ffef-d684d0fa8101"
      },
      "source": [
        "#アンダーサンプリング\n",
        "from imblearn.over_sampling import SMOTE\n",
        "from imblearn.under_sampling import RandomUnderSampler\n",
        "\n",
        "#ラベル1のデータ数が非常に大きいため, 1/3倍する. \n",
        "rus = RandomUnderSampler(sampling_strategy={'0': sum(train_y=='0'), '1': int(sum(train_y=='1')/3), '2': sum(train_y=='2'),'3': sum(train_y=='3')},\n",
        "                         random_state=0)\n",
        "train_X, train_y = rus.fit_resample(train_X, train_y)\n",
        "\n",
        "#各ラベルのデータ数を均等にする\n",
        "sm = SMOTE(sampling_strategy='not majority', random_state=42)\n",
        "train_X, train_y = sm.fit_resample(train_X, train_y)"
      ],
      "execution_count": 82,
      "outputs": [
        {
          "output_type": "stream",
          "text": [
            "/usr/local/lib/python3.7/dist-packages/sklearn/utils/deprecation.py:87: FutureWarning: Function safe_indexing is deprecated; safe_indexing is deprecated in version 0.22 and will be removed in version 0.24.\n",
            "  warnings.warn(msg, category=FutureWarning)\n",
            "/usr/local/lib/python3.7/dist-packages/sklearn/utils/deprecation.py:87: FutureWarning: Function safe_indexing is deprecated; safe_indexing is deprecated in version 0.22 and will be removed in version 0.24.\n",
            "  warnings.warn(msg, category=FutureWarning)\n",
            "/usr/local/lib/python3.7/dist-packages/sklearn/utils/deprecation.py:87: FutureWarning: Function safe_indexing is deprecated; safe_indexing is deprecated in version 0.22 and will be removed in version 0.24.\n",
            "  warnings.warn(msg, category=FutureWarning)\n",
            "/usr/local/lib/python3.7/dist-packages/sklearn/utils/deprecation.py:87: FutureWarning: Function safe_indexing is deprecated; safe_indexing is deprecated in version 0.22 and will be removed in version 0.24.\n",
            "  warnings.warn(msg, category=FutureWarning)\n"
          ],
          "name": "stderr"
        }
      ]
    },
    {
      "cell_type": "code",
      "metadata": {
        "id": "fVduYsymys0M"
      },
      "source": [
        "# (i-1) -> Class_i にラベルを変更\n",
        "for i in range(1,5):\n",
        "  train_y[train_y == str(i-1)] = \"Class_\" + str(i) "
      ],
      "execution_count": 83,
      "outputs": []
    },
    {
      "cell_type": "code",
      "metadata": {
        "colab": {
          "base_uri": "https://localhost:8080/",
          "height": 289
        },
        "id": "vbfvuKncxh2G",
        "outputId": "6db30d0e-1675-446f-d926-a0b51ea7b617"
      },
      "source": [
        "#サンプル数調整結果の確認\n",
        "plt.hist(train_y)\n",
        "plt.xlabel(\"class name\", fontsize=15)\n",
        "plt.ylabel(\"number of sample\", fontsize=15)\n",
        "\n",
        "plt.ylim([0, 60000])\n",
        "\n",
        "plt.grid()\n",
        "plt.savefig(\"pm2.png\")\n",
        "plt.show()"
      ],
      "execution_count": 37,
      "outputs": [
        {
          "output_type": "display_data",
          "data": {
            "image/png": "[encoded data removed]",
            "text/plain": [
              "<Figure size 432x288 with 1 Axes>"
            ]
          },
          "metadata": {
            "tags": [],
            "needs_background": "light"
          }
        }
      ]
    },
    {
      "cell_type": "code",
      "metadata": {
        "id": "ZaddAD_8Dflb",
        "colab": {
          "base_uri": "https://localhost:8080/"
        },
        "outputId": "dc7d6b8b-2cad-4e97-90bd-c50b2077c667"
      },
      "source": [
        "#線形判別分析(LDA)による次元削減\n",
        "from sklearn.discriminant_analysis import LinearDiscriminantAnalysis as LDA\n",
        "\n",
        "lda = LDA(n_components = 2)\n",
        "lda.fit(train_X, train_y)\n",
        "\n",
        "train_X = lda.transform(train_X)\n",
        "test_X = lda.transform(test_X)\n",
        "\n",
        "lda.explained_variance_ratio_"
      ],
      "execution_count": 84,
      "outputs": [
        {
          "output_type": "execute_result",
          "data": {
            "text/plain": [
              "array([0.74067918, 0.22438237])"
            ]
          },
          "metadata": {
            "tags": []
          },
          "execution_count": 84
        }
      ]
    },
    {
      "cell_type": "code",
      "metadata": {
        "id": "yHYLKnovJWDl"
      },
      "source": [
        "#xgboostによる分類\n",
        "import xgboost as xgb\n",
        "from sklearn.metrics import log_loss\n",
        "#チューニング用のパラメータ\n",
        "param = { 'n_estimator' : [50, 100, 200],\n",
        "          'learning_rate': [10**(i) for i in range(-4, -1)],\n",
        "          'max_depth': [3, 4, 6]\n",
        "         }\n",
        "num_round = 50"
      ],
      "execution_count": 44,
      "outputs": []
    },
    {
      "cell_type": "code",
      "metadata": {
        "colab": {
          "base_uri": "https://localhost:8080/"
        },
        "id": "-K0GmsdI-P5w",
        "outputId": "6c39a715-d962-46bf-c5d2-e5d298439700"
      },
      "source": [
        "#分類器の作成とパラメータのグリッドサーチ\n",
        "clf = xgb.XGBClassifier(objective = 'multi;softprob', silent=1, random_state=71)\n",
        "clf_cv = GridSearchCV(clf, param, cv=5, verbose=1)\n",
        "clf_cv.fit(train_X, train_y)"
      ],
      "execution_count": 71,
      "outputs": [
        {
          "output_type": "stream",
          "text": [
            "Fitting 5 folds for each of 27 candidates, totalling 135 fits\n"
          ],
          "name": "stdout"
        },
        {
          "output_type": "stream",
          "text": [
            "[Parallel(n_jobs=1)]: Using backend SequentialBackend with 1 concurrent workers.\n",
            "[Parallel(n_jobs=1)]: Done 135 out of 135 | elapsed: 28.8min finished\n"
          ],
          "name": "stderr"
        },
        {
          "output_type": "execute_result",
          "data": {
            "text/plain": [
              "GridSearchCV(cv=5, error_score=nan,\n",
              "             estimator=XGBClassifier(base_score=0.5, booster='gbtree',\n",
              "                                     colsample_bylevel=1, colsample_bynode=1,\n",
              "                                     colsample_bytree=1, gamma=0,\n",
              "                                     learning_rate=0.1, max_delta_step=0,\n",
              "                                     max_depth=3, min_child_weight=1,\n",
              "                                     missing=None, n_estimators=100, n_jobs=1,\n",
              "                                     nthread=None, objective='multi;softprob',\n",
              "                                     random_state=71, reg_alpha=0, reg_lambda=1,\n",
              "                                     scale_pos_weight=1, seed=None, silent=1,\n",
              "                                     subsample=1, verbosity=1),\n",
              "             iid='deprecated', n_jobs=None,\n",
              "             param_grid={'learning_rate': [0.0001, 0.001, 0.01],\n",
              "                         'max_depth': [3, 4, 6],\n",
              "                         'n_estimator': [50, 100, 200]},\n",
              "             pre_dispatch='2*n_jobs', refit=True, return_train_score=False,\n",
              "             scoring=None, verbose=1)"
            ]
          },
          "metadata": {
            "tags": []
          },
          "execution_count": 71
        }
      ]
    },
    {
      "cell_type": "code",
      "metadata": {
        "colab": {
          "base_uri": "https://localhost:8080/"
        },
        "id": "RA6zNARnBEAO",
        "outputId": "d1bc11c7-006c-47e2-a50b-3cfe770f13d4"
      },
      "source": [
        "#チューニング後のパラメータを確認\n",
        "clf_cv.best_params_"
      ],
      "execution_count": 73,
      "outputs": [
        {
          "output_type": "execute_result",
          "data": {
            "text/plain": [
              "{'learning_rate': 0.001, 'max_depth': 4, 'n_estimator': 50}"
            ]
          },
          "metadata": {
            "tags": []
          },
          "execution_count": 73
        }
      ]
    },
    {
      "cell_type": "code",
      "metadata": {
        "colab": {
          "base_uri": "https://localhost:8080/"
        },
        "id": "EmIJX98P9h0Q",
        "outputId": "88a6454d-1da5-4c60-a402-9f46cc2cf91e"
      },
      "source": [
        "#チューニング後のパラメータを使って分類器作成\n",
        "clf = xgb.XGBClassifier(#**clf_cv.best_params_\n",
        "                        learning_rate = 0.01, max_depth = 3, n_estimator = 50)\n",
        "clf.fit(train_X, train_y)\n",
        "clf.score(train_X, train_y)"
      ],
      "execution_count": 85,
      "outputs": [
        {
          "output_type": "execute_result",
          "data": {
            "text/plain": [
              "0.31870915032679736"
            ]
          },
          "metadata": {
            "tags": []
          },
          "execution_count": 85
        }
      ]
    },
    {
      "cell_type": "code",
      "metadata": {
        "colab": {
          "base_uri": "https://localhost:8080/",
          "height": 266
        },
        "id": "1Zbz-tkg4qsh",
        "outputId": "da8c7f60-faec-4277-831f-3bc643d13111"
      },
      "source": [
        "#テストデータと予測値のヒストグラム\n",
        "ans = clf.predict(train_X)\n",
        "fig = plt.figure()\n",
        "ax = fig.add_subplot(1, 1 ,1)\n",
        "\n",
        "labels = [\"predict\", \"measured\"]\n",
        "ax.hist([ans, train_y], label = labels)\n",
        "plt.legend()\n",
        "\n",
        "plt.savefig(\"predict.png\")\n",
        "plt.show()"
      ],
      "execution_count": 86,
      "outputs": [
        {
          "output_type": "display_data",
          "data": {
            "image/png": "[encoded data removed]",
            "text/plain": [
              "<Figure size 432x288 with 1 Axes>"
            ]
          },
          "metadata": {
            "tags": [],
            "needs_background": "light"
          }
        }
      ]
    },
    {
      "cell_type": "code",
      "metadata": {
        "colab": {
          "base_uri": "https://localhost:8080/",
          "height": 280
        },
        "id": "LsAZHG9a-fsA",
        "outputId": "204bfc73-47c2-4051-df31-754f96be1052"
      },
      "source": [
        "#予測結果のヒートマップ\n",
        "from sklearn.metrics import plot_confusion_matrix\n",
        "\n",
        "plot_confusion_matrix(clf, train_X, train_y,\n",
        "                      #display_labels=train_y,\n",
        "                      cmap=plt.cm.Blues)\n",
        "\n",
        "plt.savefig(\"hm.png\")\n",
        "plt.show()"
      ],
      "execution_count": 64,
      "outputs": [
        {
          "output_type": "display_data",
          "data": {
            "image/png": "[encoded data removed]",
            "text/plain": [
              "<Figure size 432x288 with 2 Axes>"
            ]
          },
          "metadata": {
            "tags": [],
            "needs_background": "light"
          }
        }
      ]
    },
    {
      "cell_type": "code",
      "metadata": {
        "colab": {
          "base_uri": "https://localhost:8080/"
        },
        "id": "8RYxurtc9QOo",
        "outputId": "c7394e12-c790-4f80-9751-9170ff610e68"
      },
      "source": [
        "#♯正解率とf値の確認\n",
        "from sklearn.metrics import f1_score\n",
        "from sklearn.metrics import accuracy_score\n",
        "\n",
        "print(accuracy_score(train_y, ans))\n",
        "print(f1_score(train_y, ans, average=None))"
      ],
      "execution_count": 91,
      "outputs": [
        {
          "output_type": "stream",
          "text": [
            "0.31870915032679736\n",
            "[0.12921069 0.31440733 0.3702432  0.379192  ]\n"
          ],
          "name": "stdout"
        }
      ]
    },
    {
      "cell_type": "code",
      "metadata": {
        "id": "vMmQDWIvomT_"
      },
      "source": [
        "#提出用データの作成\n",
        "ans_submit = clf.predict_proba(np.array(test_X))\n",
        "ans_submit = pd.DataFrame(ans_submit, columns=[\"Class_1\", \"Class_2\", \"Class_3\", \"Class_4\"])"
      ],
      "execution_count": 16,
      "outputs": []
    },
    {
      "cell_type": "code",
      "metadata": {
        "id": "pP-xE00r2P_2"
      },
      "source": [
        "#提出用データのcsv化\n",
        "t = pd.read_csv(\"test.csv\")\n",
        "test_id = t[\"id\"]\n",
        "ans_submit = pd.concat([test_id, ans_submit], axis=1)\n",
        "ans_submit.to_csv(\"submission.csv\", index=False)"
      ],
      "execution_count": 17,
      "outputs": []
    },
    {
      "cell_type": "code",
      "metadata": {
        "colab": {
          "base_uri": "https://localhost:8080/",
          "height": 417
        },
        "id": "dx1VH7BX2xUb",
        "outputId": "cc5251ab-fc1d-43d0-b72c-3a0b405c128e"
      },
      "source": [
        "#提出用データの確認用\n",
        "ans_submit"
      ],
      "execution_count": 18,
      "outputs": [
        {
          "output_type": "execute_result",
          "data": {
            "text/html": [
              "<div>\n",
              "<style scoped>\n",
              "    .dataframe tbody tr th:only-of-type {\n",
              "        vertical-align: middle;\n",
              "    }\n",
              "\n",
              "    .dataframe tbody tr th {\n",
              "        vertical-align: top;\n",
              "    }\n",
              "\n",
              "    .dataframe thead th {\n",
              "        text-align: right;\n",
              "    }\n",
              "</style>\n",
              "<table border=\"1\" class=\"dataframe\">\n",
              "  <thead>\n",
              "    <tr style=\"text-align: right;\">\n",
              "      <th></th>\n",
              "      <th>id</th>\n",
              "      <th>Class_1</th>\n",
              "      <th>Class_2</th>\n",
              "      <th>Class_3</th>\n",
              "      <th>Class_4</th>\n",
              "    </tr>\n",
              "  </thead>\n",
              "  <tbody>\n",
              "    <tr>\n",
              "      <th>0</th>\n",
              "      <td>100000</td>\n",
              "      <td>0.259152</td>\n",
              "      <td>0.265734</td>\n",
              "      <td>0.232222</td>\n",
              "      <td>0.242892</td>\n",
              "    </tr>\n",
              "    <tr>\n",
              "      <th>1</th>\n",
              "      <td>100001</td>\n",
              "      <td>0.248148</td>\n",
              "      <td>0.259007</td>\n",
              "      <td>0.262185</td>\n",
              "      <td>0.230660</td>\n",
              "    </tr>\n",
              "    <tr>\n",
              "      <th>2</th>\n",
              "      <td>100002</td>\n",
              "      <td>0.247165</td>\n",
              "      <td>0.283322</td>\n",
              "      <td>0.234330</td>\n",
              "      <td>0.235182</td>\n",
              "    </tr>\n",
              "    <tr>\n",
              "      <th>3</th>\n",
              "      <td>100003</td>\n",
              "      <td>0.247025</td>\n",
              "      <td>0.238043</td>\n",
              "      <td>0.296137</td>\n",
              "      <td>0.218795</td>\n",
              "    </tr>\n",
              "    <tr>\n",
              "      <th>4</th>\n",
              "      <td>100004</td>\n",
              "      <td>0.260564</td>\n",
              "      <td>0.251980</td>\n",
              "      <td>0.226436</td>\n",
              "      <td>0.261019</td>\n",
              "    </tr>\n",
              "    <tr>\n",
              "      <th>...</th>\n",
              "      <td>...</td>\n",
              "      <td>...</td>\n",
              "      <td>...</td>\n",
              "      <td>...</td>\n",
              "      <td>...</td>\n",
              "    </tr>\n",
              "    <tr>\n",
              "      <th>49995</th>\n",
              "      <td>149995</td>\n",
              "      <td>0.241084</td>\n",
              "      <td>0.288349</td>\n",
              "      <td>0.247330</td>\n",
              "      <td>0.223237</td>\n",
              "    </tr>\n",
              "    <tr>\n",
              "      <th>49996</th>\n",
              "      <td>149996</td>\n",
              "      <td>0.257639</td>\n",
              "      <td>0.251871</td>\n",
              "      <td>0.210714</td>\n",
              "      <td>0.279775</td>\n",
              "    </tr>\n",
              "    <tr>\n",
              "      <th>49997</th>\n",
              "      <td>149997</td>\n",
              "      <td>0.246277</td>\n",
              "      <td>0.247322</td>\n",
              "      <td>0.245074</td>\n",
              "      <td>0.261326</td>\n",
              "    </tr>\n",
              "    <tr>\n",
              "      <th>49998</th>\n",
              "      <td>149998</td>\n",
              "      <td>0.258283</td>\n",
              "      <td>0.252501</td>\n",
              "      <td>0.211241</td>\n",
              "      <td>0.277976</td>\n",
              "    </tr>\n",
              "    <tr>\n",
              "      <th>49999</th>\n",
              "      <td>149999</td>\n",
              "      <td>0.260632</td>\n",
              "      <td>0.257463</td>\n",
              "      <td>0.221690</td>\n",
              "      <td>0.260215</td>\n",
              "    </tr>\n",
              "  </tbody>\n",
              "</table>\n",
              "<p>50000 rows × 5 columns</p>\n",
              "</div>"
            ],
            "text/plain": [
              "           id   Class_1   Class_2   Class_3   Class_4\n",
              "0      100000  0.259152  0.265734  0.232222  0.242892\n",
              "1      100001  0.248148  0.259007  0.262185  0.230660\n",
              "2      100002  0.247165  0.283322  0.234330  0.235182\n",
              "3      100003  0.247025  0.238043  0.296137  0.218795\n",
              "4      100004  0.260564  0.251980  0.226436  0.261019\n",
              "...       ...       ...       ...       ...       ...\n",
              "49995  149995  0.241084  0.288349  0.247330  0.223237\n",
              "49996  149996  0.257639  0.251871  0.210714  0.279775\n",
              "49997  149997  0.246277  0.247322  0.245074  0.261326\n",
              "49998  149998  0.258283  0.252501  0.211241  0.277976\n",
              "49999  149999  0.260632  0.257463  0.221690  0.260215\n",
              "\n",
              "[50000 rows x 5 columns]"
            ]
          },
          "metadata": {
            "tags": []
          },
          "execution_count": 18
        }
      ]
    }
  ]
}