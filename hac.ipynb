{
  "nbformat": 4,
  "nbformat_minor": 0,
  "metadata": {
    "colab": {
      "name": "hac.ipynb",
      "provenance": [],
      "collapsed_sections": [],
      "toc_visible": true
    },
    "kernelspec": {
      "display_name": "Python 3",
      "name": "python3"
    }
  },
  "cells": [
    {
      "cell_type": "code",
      "metadata": {
        "id": "qp9W6xBgNBO0"
      },
      "source": [
        "import pandas as pd\n",
        "import numpy as np"
      ],
      "execution_count": null,
      "outputs": []
    },
    {
      "cell_type": "code",
      "metadata": {
        "colab": {
          "base_uri": "https://localhost:8080/",
          "height": 355
        },
        "id": "GIyjWpnlNINF",
        "outputId": "da2c9e70-fbd4-4065-9c23-30af029495cc"
      },
      "source": [
        "#データの読み込み\n",
        "meal = pd.read_csv(\"/content/Meal Analysis (2017) - data.csv\", index_col=0)\n",
        "print(len(meal))\n",
        "meal.head(8)"
      ],
      "execution_count": null,
      "outputs": [
        {
          "output_type": "stream",
          "text": [
            "1315\n"
          ],
          "name": "stdout"
        },
        {
          "output_type": "execute_result",
          "data": {
            "text/html": [
              "<div>\n",
              "<style scoped>\n",
              "    .dataframe tbody tr th:only-of-type {\n",
              "        vertical-align: middle;\n",
              "    }\n",
              "\n",
              "    .dataframe tbody tr th {\n",
              "        vertical-align: top;\n",
              "    }\n",
              "\n",
              "    .dataframe thead th {\n",
              "        text-align: right;\n",
              "    }\n",
              "</style>\n",
              "<table border=\"1\" class=\"dataframe\">\n",
              "  <thead>\n",
              "    <tr style=\"text-align: right;\">\n",
              "      <th></th>\n",
              "      <th>Type</th>\n",
              "      <th>gender</th>\n",
              "      <th>age</th>\n",
              "      <th>height</th>\n",
              "      <th>weight</th>\n",
              "      <th>EER[kcal]</th>\n",
              "      <th>P target(15%)[g]</th>\n",
              "      <th>F target(25%)[g]</th>\n",
              "      <th>C target(60%)[g]</th>\n",
              "      <th>number of dishes</th>\n",
              "      <th>E[kcal]</th>\n",
              "      <th>P[g]</th>\n",
              "      <th>F[g]</th>\n",
              "      <th>C[g]</th>\n",
              "      <th>Salt[g]</th>\n",
              "      <th>Vegetables[g]</th>\n",
              "      <th>Score(1:worst 2:bad 3:good 4:best)</th>\n",
              "    </tr>\n",
              "  </thead>\n",
              "  <tbody>\n",
              "    <tr>\n",
              "      <th>1</th>\n",
              "      <td>breakfast</td>\n",
              "      <td>female</td>\n",
              "      <td>32.0</td>\n",
              "      <td>157.0</td>\n",
              "      <td>48.0</td>\n",
              "      <td>1655</td>\n",
              "      <td>62</td>\n",
              "      <td>46</td>\n",
              "      <td>248</td>\n",
              "      <td>2</td>\n",
              "      <td>334</td>\n",
              "      <td>5.9</td>\n",
              "      <td>0.8</td>\n",
              "      <td>75.7</td>\n",
              "      <td>0.2</td>\n",
              "      <td>29</td>\n",
              "      <td>2</td>\n",
              "    </tr>\n",
              "    <tr>\n",
              "      <th>2</th>\n",
              "      <td>breakfast</td>\n",
              "      <td>female</td>\n",
              "      <td>35.0</td>\n",
              "      <td>161.0</td>\n",
              "      <td>55.0</td>\n",
              "      <td>2073</td>\n",
              "      <td>78</td>\n",
              "      <td>58</td>\n",
              "      <td>311</td>\n",
              "      <td>2</td>\n",
              "      <td>214</td>\n",
              "      <td>4.6</td>\n",
              "      <td>4.5</td>\n",
              "      <td>41.3</td>\n",
              "      <td>0.1</td>\n",
              "      <td>0</td>\n",
              "      <td>1</td>\n",
              "    </tr>\n",
              "    <tr>\n",
              "      <th>3</th>\n",
              "      <td>breakfast</td>\n",
              "      <td>female</td>\n",
              "      <td>26.0</td>\n",
              "      <td>159.0</td>\n",
              "      <td>51.0</td>\n",
              "      <td>2042</td>\n",
              "      <td>77</td>\n",
              "      <td>57</td>\n",
              "      <td>306</td>\n",
              "      <td>4</td>\n",
              "      <td>352</td>\n",
              "      <td>27.3</td>\n",
              "      <td>18.9</td>\n",
              "      <td>18.1</td>\n",
              "      <td>2.8</td>\n",
              "      <td>116</td>\n",
              "      <td>2</td>\n",
              "    </tr>\n",
              "    <tr>\n",
              "      <th>4</th>\n",
              "      <td>breakfast</td>\n",
              "      <td>female</td>\n",
              "      <td>48.0</td>\n",
              "      <td>164.0</td>\n",
              "      <td>57.0</td>\n",
              "      <td>1772</td>\n",
              "      <td>66</td>\n",
              "      <td>49</td>\n",
              "      <td>266</td>\n",
              "      <td>2</td>\n",
              "      <td>295</td>\n",
              "      <td>5.6</td>\n",
              "      <td>0.9</td>\n",
              "      <td>65.1</td>\n",
              "      <td>0.7</td>\n",
              "      <td>189</td>\n",
              "      <td>2</td>\n",
              "    </tr>\n",
              "    <tr>\n",
              "      <th>5</th>\n",
              "      <td>dinner</td>\n",
              "      <td>female</td>\n",
              "      <td>48.0</td>\n",
              "      <td>164.0</td>\n",
              "      <td>57.0</td>\n",
              "      <td>1772</td>\n",
              "      <td>66</td>\n",
              "      <td>49</td>\n",
              "      <td>266</td>\n",
              "      <td>5</td>\n",
              "      <td>876</td>\n",
              "      <td>41.5</td>\n",
              "      <td>34.2</td>\n",
              "      <td>96.3</td>\n",
              "      <td>6.4</td>\n",
              "      <td>54</td>\n",
              "      <td>2</td>\n",
              "    </tr>\n",
              "    <tr>\n",
              "      <th>6</th>\n",
              "      <td>lunch</td>\n",
              "      <td>female</td>\n",
              "      <td>48.0</td>\n",
              "      <td>164.0</td>\n",
              "      <td>57.0</td>\n",
              "      <td>1772</td>\n",
              "      <td>66</td>\n",
              "      <td>49</td>\n",
              "      <td>266</td>\n",
              "      <td>1</td>\n",
              "      <td>424</td>\n",
              "      <td>14.5</td>\n",
              "      <td>25.0</td>\n",
              "      <td>34.4</td>\n",
              "      <td>2.3</td>\n",
              "      <td>33</td>\n",
              "      <td>2</td>\n",
              "    </tr>\n",
              "    <tr>\n",
              "      <th>7</th>\n",
              "      <td>breakfast</td>\n",
              "      <td>female</td>\n",
              "      <td>48.0</td>\n",
              "      <td>164.0</td>\n",
              "      <td>57.0</td>\n",
              "      <td>1772</td>\n",
              "      <td>66</td>\n",
              "      <td>49</td>\n",
              "      <td>266</td>\n",
              "      <td>1</td>\n",
              "      <td>347</td>\n",
              "      <td>11.1</td>\n",
              "      <td>8.6</td>\n",
              "      <td>54.0</td>\n",
              "      <td>2.0</td>\n",
              "      <td>6</td>\n",
              "      <td>2</td>\n",
              "    </tr>\n",
              "    <tr>\n",
              "      <th>8</th>\n",
              "      <td>NaN</td>\n",
              "      <td>NaN</td>\n",
              "      <td>NaN</td>\n",
              "      <td>NaN</td>\n",
              "      <td>NaN</td>\n",
              "      <td>1772</td>\n",
              "      <td>66</td>\n",
              "      <td>49</td>\n",
              "      <td>266</td>\n",
              "      <td>3</td>\n",
              "      <td>238</td>\n",
              "      <td>6.1</td>\n",
              "      <td>10.9</td>\n",
              "      <td>31.1</td>\n",
              "      <td>1.6</td>\n",
              "      <td>299</td>\n",
              "      <td>3</td>\n",
              "    </tr>\n",
              "  </tbody>\n",
              "</table>\n",
              "</div>"
            ],
            "text/plain": [
              "        Type  gender  ...  Vegetables[g]  Score(1:worst 2:bad 3:good 4:best)\n",
              "1  breakfast  female  ...             29                                   2\n",
              "2  breakfast  female  ...              0                                   1\n",
              "3  breakfast  female  ...            116                                   2\n",
              "4  breakfast  female  ...            189                                   2\n",
              "5     dinner  female  ...             54                                   2\n",
              "6      lunch  female  ...             33                                   2\n",
              "7  breakfast  female  ...              6                                   2\n",
              "8        NaN     NaN  ...            299                                   3\n",
              "\n",
              "[8 rows x 17 columns]"
            ]
          },
          "metadata": {
            "tags": []
          },
          "execution_count": 2
        }
      ]
    },
    {
      "cell_type": "code",
      "metadata": {
        "colab": {
          "base_uri": "https://localhost:8080/"
        },
        "id": "s3Kg7vVjWnKg",
        "outputId": "1fc5fdad-1f39-4d3d-8baa-fea7cb985b58"
      },
      "source": [
        "#欠損値のあるレコードを確認\n",
        "for i in range(1,len(meal)): \n",
        "  if meal.isnull().any(axis=1)[i] == True:\n",
        "    print(i)"
      ],
      "execution_count": null,
      "outputs": [
        {
          "output_type": "stream",
          "text": [
            "8\n"
          ],
          "name": "stdout"
        }
      ]
    },
    {
      "cell_type": "code",
      "metadata": {
        "colab": {
          "base_uri": "https://localhost:8080/",
          "height": 355
        },
        "id": "K3FWek8yNVkq",
        "outputId": "d293904f-f86d-4022-8fae-bed6149db848"
      },
      "source": [
        "#欠損値のあるレコードを削除\n",
        "meal = meal.dropna()\n",
        "print(len(meal))\n",
        "meal = meal.reset_index(drop=True)\n",
        "meal.head(8)"
      ],
      "execution_count": null,
      "outputs": [
        {
          "output_type": "stream",
          "text": [
            "1314\n"
          ],
          "name": "stdout"
        },
        {
          "output_type": "execute_result",
          "data": {
            "text/html": [
              "<div>\n",
              "<style scoped>\n",
              "    .dataframe tbody tr th:only-of-type {\n",
              "        vertical-align: middle;\n",
              "    }\n",
              "\n",
              "    .dataframe tbody tr th {\n",
              "        vertical-align: top;\n",
              "    }\n",
              "\n",
              "    .dataframe thead th {\n",
              "        text-align: right;\n",
              "    }\n",
              "</style>\n",
              "<table border=\"1\" class=\"dataframe\">\n",
              "  <thead>\n",
              "    <tr style=\"text-align: right;\">\n",
              "      <th></th>\n",
              "      <th>Type</th>\n",
              "      <th>gender</th>\n",
              "      <th>age</th>\n",
              "      <th>height</th>\n",
              "      <th>weight</th>\n",
              "      <th>EER[kcal]</th>\n",
              "      <th>P target(15%)[g]</th>\n",
              "      <th>F target(25%)[g]</th>\n",
              "      <th>C target(60%)[g]</th>\n",
              "      <th>number of dishes</th>\n",
              "      <th>E[kcal]</th>\n",
              "      <th>P[g]</th>\n",
              "      <th>F[g]</th>\n",
              "      <th>C[g]</th>\n",
              "      <th>Salt[g]</th>\n",
              "      <th>Vegetables[g]</th>\n",
              "      <th>Score(1:worst 2:bad 3:good 4:best)</th>\n",
              "    </tr>\n",
              "  </thead>\n",
              "  <tbody>\n",
              "    <tr>\n",
              "      <th>0</th>\n",
              "      <td>breakfast</td>\n",
              "      <td>female</td>\n",
              "      <td>32.0</td>\n",
              "      <td>157.0</td>\n",
              "      <td>48.0</td>\n",
              "      <td>1655</td>\n",
              "      <td>62</td>\n",
              "      <td>46</td>\n",
              "      <td>248</td>\n",
              "      <td>2</td>\n",
              "      <td>334</td>\n",
              "      <td>5.9</td>\n",
              "      <td>0.8</td>\n",
              "      <td>75.7</td>\n",
              "      <td>0.2</td>\n",
              "      <td>29</td>\n",
              "      <td>2</td>\n",
              "    </tr>\n",
              "    <tr>\n",
              "      <th>1</th>\n",
              "      <td>breakfast</td>\n",
              "      <td>female</td>\n",
              "      <td>35.0</td>\n",
              "      <td>161.0</td>\n",
              "      <td>55.0</td>\n",
              "      <td>2073</td>\n",
              "      <td>78</td>\n",
              "      <td>58</td>\n",
              "      <td>311</td>\n",
              "      <td>2</td>\n",
              "      <td>214</td>\n",
              "      <td>4.6</td>\n",
              "      <td>4.5</td>\n",
              "      <td>41.3</td>\n",
              "      <td>0.1</td>\n",
              "      <td>0</td>\n",
              "      <td>1</td>\n",
              "    </tr>\n",
              "    <tr>\n",
              "      <th>2</th>\n",
              "      <td>breakfast</td>\n",
              "      <td>female</td>\n",
              "      <td>26.0</td>\n",
              "      <td>159.0</td>\n",
              "      <td>51.0</td>\n",
              "      <td>2042</td>\n",
              "      <td>77</td>\n",
              "      <td>57</td>\n",
              "      <td>306</td>\n",
              "      <td>4</td>\n",
              "      <td>352</td>\n",
              "      <td>27.3</td>\n",
              "      <td>18.9</td>\n",
              "      <td>18.1</td>\n",
              "      <td>2.8</td>\n",
              "      <td>116</td>\n",
              "      <td>2</td>\n",
              "    </tr>\n",
              "    <tr>\n",
              "      <th>3</th>\n",
              "      <td>breakfast</td>\n",
              "      <td>female</td>\n",
              "      <td>48.0</td>\n",
              "      <td>164.0</td>\n",
              "      <td>57.0</td>\n",
              "      <td>1772</td>\n",
              "      <td>66</td>\n",
              "      <td>49</td>\n",
              "      <td>266</td>\n",
              "      <td>2</td>\n",
              "      <td>295</td>\n",
              "      <td>5.6</td>\n",
              "      <td>0.9</td>\n",
              "      <td>65.1</td>\n",
              "      <td>0.7</td>\n",
              "      <td>189</td>\n",
              "      <td>2</td>\n",
              "    </tr>\n",
              "    <tr>\n",
              "      <th>4</th>\n",
              "      <td>dinner</td>\n",
              "      <td>female</td>\n",
              "      <td>48.0</td>\n",
              "      <td>164.0</td>\n",
              "      <td>57.0</td>\n",
              "      <td>1772</td>\n",
              "      <td>66</td>\n",
              "      <td>49</td>\n",
              "      <td>266</td>\n",
              "      <td>5</td>\n",
              "      <td>876</td>\n",
              "      <td>41.5</td>\n",
              "      <td>34.2</td>\n",
              "      <td>96.3</td>\n",
              "      <td>6.4</td>\n",
              "      <td>54</td>\n",
              "      <td>2</td>\n",
              "    </tr>\n",
              "    <tr>\n",
              "      <th>5</th>\n",
              "      <td>lunch</td>\n",
              "      <td>female</td>\n",
              "      <td>48.0</td>\n",
              "      <td>164.0</td>\n",
              "      <td>57.0</td>\n",
              "      <td>1772</td>\n",
              "      <td>66</td>\n",
              "      <td>49</td>\n",
              "      <td>266</td>\n",
              "      <td>1</td>\n",
              "      <td>424</td>\n",
              "      <td>14.5</td>\n",
              "      <td>25.0</td>\n",
              "      <td>34.4</td>\n",
              "      <td>2.3</td>\n",
              "      <td>33</td>\n",
              "      <td>2</td>\n",
              "    </tr>\n",
              "    <tr>\n",
              "      <th>6</th>\n",
              "      <td>breakfast</td>\n",
              "      <td>female</td>\n",
              "      <td>48.0</td>\n",
              "      <td>164.0</td>\n",
              "      <td>57.0</td>\n",
              "      <td>1772</td>\n",
              "      <td>66</td>\n",
              "      <td>49</td>\n",
              "      <td>266</td>\n",
              "      <td>1</td>\n",
              "      <td>347</td>\n",
              "      <td>11.1</td>\n",
              "      <td>8.6</td>\n",
              "      <td>54.0</td>\n",
              "      <td>2.0</td>\n",
              "      <td>6</td>\n",
              "      <td>2</td>\n",
              "    </tr>\n",
              "    <tr>\n",
              "      <th>7</th>\n",
              "      <td>dinner</td>\n",
              "      <td>female</td>\n",
              "      <td>48.0</td>\n",
              "      <td>164.0</td>\n",
              "      <td>57.0</td>\n",
              "      <td>1772</td>\n",
              "      <td>66</td>\n",
              "      <td>49</td>\n",
              "      <td>266</td>\n",
              "      <td>1</td>\n",
              "      <td>563</td>\n",
              "      <td>22.5</td>\n",
              "      <td>20.3</td>\n",
              "      <td>67.9</td>\n",
              "      <td>2.2</td>\n",
              "      <td>125</td>\n",
              "      <td>2</td>\n",
              "    </tr>\n",
              "  </tbody>\n",
              "</table>\n",
              "</div>"
            ],
            "text/plain": [
              "        Type  gender  ...  Vegetables[g]  Score(1:worst 2:bad 3:good 4:best)\n",
              "0  breakfast  female  ...             29                                   2\n",
              "1  breakfast  female  ...              0                                   1\n",
              "2  breakfast  female  ...            116                                   2\n",
              "3  breakfast  female  ...            189                                   2\n",
              "4     dinner  female  ...             54                                   2\n",
              "5      lunch  female  ...             33                                   2\n",
              "6  breakfast  female  ...              6                                   2\n",
              "7     dinner  female  ...            125                                   2\n",
              "\n",
              "[8 rows x 17 columns]"
            ]
          },
          "metadata": {
            "tags": []
          },
          "execution_count": 4
        }
      ]
    },
    {
      "cell_type": "code",
      "metadata": {
        "colab": {
          "base_uri": "https://localhost:8080/",
          "height": 249
        },
        "id": "anWcCQYU6UdH",
        "outputId": "88901f29-395c-46a4-bc48-dac1a7df5763"
      },
      "source": [
        "#説明変数xと目的変数yに分割\n",
        "x = meal.drop(\"Score(1:worst 2:bad 3:good 4:best)\", axis=1)\n",
        "y = meal[\"Score(1:worst 2:bad 3:good 4:best)\"]\n",
        "x.head()"
      ],
      "execution_count": null,
      "outputs": [
        {
          "output_type": "execute_result",
          "data": {
            "text/html": [
              "<div>\n",
              "<style scoped>\n",
              "    .dataframe tbody tr th:only-of-type {\n",
              "        vertical-align: middle;\n",
              "    }\n",
              "\n",
              "    .dataframe tbody tr th {\n",
              "        vertical-align: top;\n",
              "    }\n",
              "\n",
              "    .dataframe thead th {\n",
              "        text-align: right;\n",
              "    }\n",
              "</style>\n",
              "<table border=\"1\" class=\"dataframe\">\n",
              "  <thead>\n",
              "    <tr style=\"text-align: right;\">\n",
              "      <th></th>\n",
              "      <th>Type</th>\n",
              "      <th>gender</th>\n",
              "      <th>age</th>\n",
              "      <th>height</th>\n",
              "      <th>weight</th>\n",
              "      <th>EER[kcal]</th>\n",
              "      <th>P target(15%)[g]</th>\n",
              "      <th>F target(25%)[g]</th>\n",
              "      <th>C target(60%)[g]</th>\n",
              "      <th>number of dishes</th>\n",
              "      <th>E[kcal]</th>\n",
              "      <th>P[g]</th>\n",
              "      <th>F[g]</th>\n",
              "      <th>C[g]</th>\n",
              "      <th>Salt[g]</th>\n",
              "      <th>Vegetables[g]</th>\n",
              "    </tr>\n",
              "  </thead>\n",
              "  <tbody>\n",
              "    <tr>\n",
              "      <th>0</th>\n",
              "      <td>breakfast</td>\n",
              "      <td>female</td>\n",
              "      <td>32.0</td>\n",
              "      <td>157.0</td>\n",
              "      <td>48.0</td>\n",
              "      <td>1655</td>\n",
              "      <td>62</td>\n",
              "      <td>46</td>\n",
              "      <td>248</td>\n",
              "      <td>2</td>\n",
              "      <td>334</td>\n",
              "      <td>5.9</td>\n",
              "      <td>0.8</td>\n",
              "      <td>75.7</td>\n",
              "      <td>0.2</td>\n",
              "      <td>29</td>\n",
              "    </tr>\n",
              "    <tr>\n",
              "      <th>1</th>\n",
              "      <td>breakfast</td>\n",
              "      <td>female</td>\n",
              "      <td>35.0</td>\n",
              "      <td>161.0</td>\n",
              "      <td>55.0</td>\n",
              "      <td>2073</td>\n",
              "      <td>78</td>\n",
              "      <td>58</td>\n",
              "      <td>311</td>\n",
              "      <td>2</td>\n",
              "      <td>214</td>\n",
              "      <td>4.6</td>\n",
              "      <td>4.5</td>\n",
              "      <td>41.3</td>\n",
              "      <td>0.1</td>\n",
              "      <td>0</td>\n",
              "    </tr>\n",
              "    <tr>\n",
              "      <th>2</th>\n",
              "      <td>breakfast</td>\n",
              "      <td>female</td>\n",
              "      <td>26.0</td>\n",
              "      <td>159.0</td>\n",
              "      <td>51.0</td>\n",
              "      <td>2042</td>\n",
              "      <td>77</td>\n",
              "      <td>57</td>\n",
              "      <td>306</td>\n",
              "      <td>4</td>\n",
              "      <td>352</td>\n",
              "      <td>27.3</td>\n",
              "      <td>18.9</td>\n",
              "      <td>18.1</td>\n",
              "      <td>2.8</td>\n",
              "      <td>116</td>\n",
              "    </tr>\n",
              "    <tr>\n",
              "      <th>3</th>\n",
              "      <td>breakfast</td>\n",
              "      <td>female</td>\n",
              "      <td>48.0</td>\n",
              "      <td>164.0</td>\n",
              "      <td>57.0</td>\n",
              "      <td>1772</td>\n",
              "      <td>66</td>\n",
              "      <td>49</td>\n",
              "      <td>266</td>\n",
              "      <td>2</td>\n",
              "      <td>295</td>\n",
              "      <td>5.6</td>\n",
              "      <td>0.9</td>\n",
              "      <td>65.1</td>\n",
              "      <td>0.7</td>\n",
              "      <td>189</td>\n",
              "    </tr>\n",
              "    <tr>\n",
              "      <th>4</th>\n",
              "      <td>dinner</td>\n",
              "      <td>female</td>\n",
              "      <td>48.0</td>\n",
              "      <td>164.0</td>\n",
              "      <td>57.0</td>\n",
              "      <td>1772</td>\n",
              "      <td>66</td>\n",
              "      <td>49</td>\n",
              "      <td>266</td>\n",
              "      <td>5</td>\n",
              "      <td>876</td>\n",
              "      <td>41.5</td>\n",
              "      <td>34.2</td>\n",
              "      <td>96.3</td>\n",
              "      <td>6.4</td>\n",
              "      <td>54</td>\n",
              "    </tr>\n",
              "  </tbody>\n",
              "</table>\n",
              "</div>"
            ],
            "text/plain": [
              "        Type  gender   age  height  ...  F[g]  C[g]  Salt[g]  Vegetables[g]\n",
              "0  breakfast  female  32.0   157.0  ...   0.8  75.7      0.2             29\n",
              "1  breakfast  female  35.0   161.0  ...   4.5  41.3      0.1              0\n",
              "2  breakfast  female  26.0   159.0  ...  18.9  18.1      2.8            116\n",
              "3  breakfast  female  48.0   164.0  ...   0.9  65.1      0.7            189\n",
              "4     dinner  female  48.0   164.0  ...  34.2  96.3      6.4             54\n",
              "\n",
              "[5 rows x 16 columns]"
            ]
          },
          "metadata": {
            "tags": []
          },
          "execution_count": 5
        }
      ]
    },
    {
      "cell_type": "markdown",
      "metadata": {
        "id": "A_tP-Xc1AGxZ"
      },
      "source": [
        ""
      ]
    },
    {
      "cell_type": "code",
      "metadata": {
        "colab": {
          "base_uri": "https://localhost:8080/",
          "height": 318
        },
        "id": "Sy9y9eXeOhJW",
        "outputId": "dce71c9b-988a-44b6-e084-c9c5d5df8a69"
      },
      "source": [
        "#目的変数の分布を確認\n",
        "import matplotlib.pyplot as plt\n",
        "plt.hist(y)"
      ],
      "execution_count": null,
      "outputs": [
        {
          "output_type": "execute_result",
          "data": {
            "text/plain": [
              "(array([320.,   0.,   0., 757.,   0.,   0., 200.,   0.,   0.,  37.]),\n",
              " array([1. , 1.3, 1.6, 1.9, 2.2, 2.5, 2.8, 3.1, 3.4, 3.7, 4. ]),\n",
              " <a list of 10 Patch objects>)"
            ]
          },
          "metadata": {
            "tags": []
          },
          "execution_count": 6
        },
        {
          "output_type": "display_data",
          "data": {
            "image/png": "[encoded data removed]",
            "text/plain": [
              "<Figure size 432x288 with 1 Axes>"
            ]
          },
          "metadata": {
            "tags": [],
            "needs_background": "light"
          }
        }
      ]
    },
    {
      "cell_type": "code",
      "metadata": {
        "colab": {
          "base_uri": "https://localhost:8080/",
          "height": 249
        },
        "id": "MGGU3XHmWAtV",
        "outputId": "f50b137d-82f0-4a19-d27a-ac7d8f0e7c07"
      },
      "source": [
        "#xが文字列ならダミー化, 目的変数が数字なら標準化(平均値0, 分散1)の処理を施す\n",
        "x_dum = []\n",
        "name = x.columns\n",
        "\n",
        "for i in range(0,len(meal.columns)-1):\n",
        "  for j in range(1, len(x)):\n",
        "    if type(x[name[i]][j]) == str:\n",
        "      x_dum.append(name[i])\n",
        "    else:\n",
        "      x[name[i]] = (x[name[i]] - x.describe()[name[i]][\"mean\"]) / x.describe()[name[i]][\"std\"]\n",
        "    break\n",
        "\n",
        "dum = pd.get_dummies(x[x_dum])\n",
        "x = x.drop(x_dum, axis=1)\n",
        "x = pd.concat((dum, x), axis=1)\n",
        "\n",
        "x.head()"
      ],
      "execution_count": null,
      "outputs": [
        {
          "output_type": "execute_result",
          "data": {
            "text/html": [
              "<div>\n",
              "<style scoped>\n",
              "    .dataframe tbody tr th:only-of-type {\n",
              "        vertical-align: middle;\n",
              "    }\n",
              "\n",
              "    .dataframe tbody tr th {\n",
              "        vertical-align: top;\n",
              "    }\n",
              "\n",
              "    .dataframe thead th {\n",
              "        text-align: right;\n",
              "    }\n",
              "</style>\n",
              "<table border=\"1\" class=\"dataframe\">\n",
              "  <thead>\n",
              "    <tr style=\"text-align: right;\">\n",
              "      <th></th>\n",
              "      <th>Type_breakfast</th>\n",
              "      <th>Type_dinner</th>\n",
              "      <th>Type_lunch</th>\n",
              "      <th>gender_female</th>\n",
              "      <th>gender_male</th>\n",
              "      <th>age</th>\n",
              "      <th>height</th>\n",
              "      <th>weight</th>\n",
              "      <th>EER[kcal]</th>\n",
              "      <th>P target(15%)[g]</th>\n",
              "      <th>F target(25%)[g]</th>\n",
              "      <th>C target(60%)[g]</th>\n",
              "      <th>number of dishes</th>\n",
              "      <th>E[kcal]</th>\n",
              "      <th>P[g]</th>\n",
              "      <th>F[g]</th>\n",
              "      <th>C[g]</th>\n",
              "      <th>Salt[g]</th>\n",
              "      <th>Vegetables[g]</th>\n",
              "    </tr>\n",
              "  </thead>\n",
              "  <tbody>\n",
              "    <tr>\n",
              "      <th>0</th>\n",
              "      <td>1</td>\n",
              "      <td>0</td>\n",
              "      <td>0</td>\n",
              "      <td>1</td>\n",
              "      <td>0</td>\n",
              "      <td>-0.822195</td>\n",
              "      <td>-1.471389</td>\n",
              "      <td>-1.280390</td>\n",
              "      <td>-1.663889</td>\n",
              "      <td>-1.677263</td>\n",
              "      <td>-1.639961</td>\n",
              "      <td>-1.670243</td>\n",
              "      <td>-0.438054</td>\n",
              "      <td>-0.845403</td>\n",
              "      <td>-1.204255</td>\n",
              "      <td>-1.253072</td>\n",
              "      <td>0.170759</td>\n",
              "      <td>-1.408087</td>\n",
              "      <td>-0.540437</td>\n",
              "    </tr>\n",
              "    <tr>\n",
              "      <th>1</th>\n",
              "      <td>1</td>\n",
              "      <td>0</td>\n",
              "      <td>0</td>\n",
              "      <td>1</td>\n",
              "      <td>0</td>\n",
              "      <td>-0.501992</td>\n",
              "      <td>-0.855900</td>\n",
              "      <td>-0.443894</td>\n",
              "      <td>-0.330383</td>\n",
              "      <td>-0.311706</td>\n",
              "      <td>-0.273067</td>\n",
              "      <td>-0.329975</td>\n",
              "      <td>-0.438054</td>\n",
              "      <td>-1.233697</td>\n",
              "      <td>-1.305799</td>\n",
              "      <td>-1.049410</td>\n",
              "      <td>-0.778753</td>\n",
              "      <td>-1.458203</td>\n",
              "      <td>-0.899423</td>\n",
              "    </tr>\n",
              "    <tr>\n",
              "      <th>2</th>\n",
              "      <td>1</td>\n",
              "      <td>0</td>\n",
              "      <td>0</td>\n",
              "      <td>1</td>\n",
              "      <td>0</td>\n",
              "      <td>-1.462601</td>\n",
              "      <td>-1.163645</td>\n",
              "      <td>-0.921892</td>\n",
              "      <td>-0.429279</td>\n",
              "      <td>-0.397053</td>\n",
              "      <td>-0.386975</td>\n",
              "      <td>-0.436346</td>\n",
              "      <td>0.801134</td>\n",
              "      <td>-0.787159</td>\n",
              "      <td>0.467307</td>\n",
              "      <td>-0.256776</td>\n",
              "      <td>-1.419121</td>\n",
              "      <td>-0.105075</td>\n",
              "      <td>0.536518</td>\n",
              "    </tr>\n",
              "    <tr>\n",
              "      <th>3</th>\n",
              "      <td>1</td>\n",
              "      <td>0</td>\n",
              "      <td>0</td>\n",
              "      <td>1</td>\n",
              "      <td>0</td>\n",
              "      <td>0.885553</td>\n",
              "      <td>-0.394283</td>\n",
              "      <td>-0.204895</td>\n",
              "      <td>-1.290635</td>\n",
              "      <td>-1.335874</td>\n",
              "      <td>-1.298237</td>\n",
              "      <td>-1.287310</td>\n",
              "      <td>-0.438054</td>\n",
              "      <td>-0.971599</td>\n",
              "      <td>-1.227688</td>\n",
              "      <td>-1.247568</td>\n",
              "      <td>-0.121823</td>\n",
              "      <td>-1.157508</td>\n",
              "      <td>1.440171</td>\n",
              "    </tr>\n",
              "    <tr>\n",
              "      <th>4</th>\n",
              "      <td>0</td>\n",
              "      <td>1</td>\n",
              "      <td>0</td>\n",
              "      <td>1</td>\n",
              "      <td>0</td>\n",
              "      <td>0.885553</td>\n",
              "      <td>-0.394283</td>\n",
              "      <td>-0.204895</td>\n",
              "      <td>-1.290635</td>\n",
              "      <td>-1.335874</td>\n",
              "      <td>-1.298237</td>\n",
              "      <td>-1.287310</td>\n",
              "      <td>1.420727</td>\n",
              "      <td>0.908390</td>\n",
              "      <td>1.576474</td>\n",
              "      <td>0.585398</td>\n",
              "      <td>0.739362</td>\n",
              "      <td>1.699095</td>\n",
              "      <td>-0.230967</td>\n",
              "    </tr>\n",
              "  </tbody>\n",
              "</table>\n",
              "</div>"
            ],
            "text/plain": [
              "   Type_breakfast  Type_dinner  Type_lunch  ...      C[g]   Salt[g]  Vegetables[g]\n",
              "0               1            0           0  ...  0.170759 -1.408087      -0.540437\n",
              "1               1            0           0  ... -0.778753 -1.458203      -0.899423\n",
              "2               1            0           0  ... -1.419121 -0.105075       0.536518\n",
              "3               1            0           0  ... -0.121823 -1.157508       1.440171\n",
              "4               0            1           0  ...  0.739362  1.699095      -0.230967\n",
              "\n",
              "[5 rows x 19 columns]"
            ]
          },
          "metadata": {
            "tags": []
          },
          "execution_count": 7
        }
      ]
    },
    {
      "cell_type": "code",
      "metadata": {
        "id": "uPPcEfhNJVMb"
      },
      "source": [
        "import urllib.request \n",
        "from sklearn.decomposition import PCA #主成分分析器"
      ],
      "execution_count": null,
      "outputs": []
    },
    {
      "cell_type": "code",
      "metadata": {
        "id": "sEVJmOtC44Km"
      },
      "source": [
        "#xを主成分分析にかける\n",
        "pca = PCA()\n",
        "pca.fit(x)\n",
        "feature = pca.transform(x)"
      ],
      "execution_count": null,
      "outputs": []
    },
    {
      "cell_type": "code",
      "metadata": {
        "id": "-ORI75Ta5rS8"
      },
      "source": [
        "#主成分得点\n",
        "pc = pd.DataFrame(feature, columns=[\"PC{}\".format(i + 1) for i in range(len(x.columns))])"
      ],
      "execution_count": null,
      "outputs": []
    },
    {
      "cell_type": "code",
      "metadata": {
        "colab": {
          "base_uri": "https://localhost:8080/",
          "height": 610
        },
        "id": "4T6KY8W2FEmC",
        "outputId": "8dd3baf5-3993-4c56-ffd0-759cddb2816e"
      },
      "source": [
        "#寄与率\n",
        "pd.DataFrame(pca.explained_variance_ratio_, index=[\"PC{}\".format(i + 1) for i in range(len(x.columns))])"
      ],
      "execution_count": null,
      "outputs": [
        {
          "output_type": "execute_result",
          "data": {
            "text/html": [
              "<div>\n",
              "<style scoped>\n",
              "    .dataframe tbody tr th:only-of-type {\n",
              "        vertical-align: middle;\n",
              "    }\n",
              "\n",
              "    .dataframe tbody tr th {\n",
              "        vertical-align: top;\n",
              "    }\n",
              "\n",
              "    .dataframe thead th {\n",
              "        text-align: right;\n",
              "    }\n",
              "</style>\n",
              "<table border=\"1\" class=\"dataframe\">\n",
              "  <thead>\n",
              "    <tr style=\"text-align: right;\">\n",
              "      <th></th>\n",
              "      <th>0</th>\n",
              "    </tr>\n",
              "  </thead>\n",
              "  <tbody>\n",
              "    <tr>\n",
              "      <th>PC1</th>\n",
              "      <td>3.502089e-01</td>\n",
              "    </tr>\n",
              "    <tr>\n",
              "      <th>PC2</th>\n",
              "      <td>2.591543e-01</td>\n",
              "    </tr>\n",
              "    <tr>\n",
              "      <th>PC3</th>\n",
              "      <td>7.949526e-02</td>\n",
              "    </tr>\n",
              "    <tr>\n",
              "      <th>PC4</th>\n",
              "      <td>6.646527e-02</td>\n",
              "    </tr>\n",
              "    <tr>\n",
              "      <th>PC5</th>\n",
              "      <td>5.531355e-02</td>\n",
              "    </tr>\n",
              "    <tr>\n",
              "      <th>PC6</th>\n",
              "      <td>4.617458e-02</td>\n",
              "    </tr>\n",
              "    <tr>\n",
              "      <th>PC7</th>\n",
              "      <td>4.228174e-02</td>\n",
              "    </tr>\n",
              "    <tr>\n",
              "      <th>PC8</th>\n",
              "      <td>2.926335e-02</td>\n",
              "    </tr>\n",
              "    <tr>\n",
              "      <th>PC9</th>\n",
              "      <td>2.075785e-02</td>\n",
              "    </tr>\n",
              "    <tr>\n",
              "      <th>PC10</th>\n",
              "      <td>1.749474e-02</td>\n",
              "    </tr>\n",
              "    <tr>\n",
              "      <th>PC11</th>\n",
              "      <td>1.457166e-02</td>\n",
              "    </tr>\n",
              "    <tr>\n",
              "      <th>PC12</th>\n",
              "      <td>1.024688e-02</td>\n",
              "    </tr>\n",
              "    <tr>\n",
              "      <th>PC13</th>\n",
              "      <td>7.018967e-03</td>\n",
              "    </tr>\n",
              "    <tr>\n",
              "      <th>PC14</th>\n",
              "      <td>1.490181e-03</td>\n",
              "    </tr>\n",
              "    <tr>\n",
              "      <th>PC15</th>\n",
              "      <td>4.479708e-05</td>\n",
              "    </tr>\n",
              "    <tr>\n",
              "      <th>PC16</th>\n",
              "      <td>1.726940e-05</td>\n",
              "    </tr>\n",
              "    <tr>\n",
              "      <th>PC17</th>\n",
              "      <td>6.754550e-07</td>\n",
              "    </tr>\n",
              "    <tr>\n",
              "      <th>PC18</th>\n",
              "      <td>6.349455e-32</td>\n",
              "    </tr>\n",
              "    <tr>\n",
              "      <th>PC19</th>\n",
              "      <td>1.451929e-32</td>\n",
              "    </tr>\n",
              "  </tbody>\n",
              "</table>\n",
              "</div>"
            ],
            "text/plain": [
              "                 0\n",
              "PC1   3.502089e-01\n",
              "PC2   2.591543e-01\n",
              "PC3   7.949526e-02\n",
              "PC4   6.646527e-02\n",
              "PC5   5.531355e-02\n",
              "PC6   4.617458e-02\n",
              "PC7   4.228174e-02\n",
              "PC8   2.926335e-02\n",
              "PC9   2.075785e-02\n",
              "PC10  1.749474e-02\n",
              "PC11  1.457166e-02\n",
              "PC12  1.024688e-02\n",
              "PC13  7.018967e-03\n",
              "PC14  1.490181e-03\n",
              "PC15  4.479708e-05\n",
              "PC16  1.726940e-05\n",
              "PC17  6.754550e-07\n",
              "PC18  6.349455e-32\n",
              "PC19  1.451929e-32"
            ]
          },
          "metadata": {
            "tags": []
          },
          "execution_count": 11
        }
      ]
    },
    {
      "cell_type": "code",
      "metadata": {
        "colab": {
          "base_uri": "https://localhost:8080/",
          "height": 279
        },
        "id": "otc3kVW8vAA7",
        "outputId": "92e31a86-9576-4627-89b9-06b992bd677b"
      },
      "source": [
        "#累積寄与率をプロット\n",
        "import matplotlib.ticker as ticker\n",
        "plt.gca().get_xaxis().set_major_locator(ticker.MaxNLocator(integer=True))\n",
        "plt.plot([0] + list( np.cumsum(pca.explained_variance_ratio_)), \"-o\")\n",
        "plt.xlabel(\"Number of principal components\")\n",
        "plt.ylabel(\"Cumulative contribution rate\")\n",
        "plt.grid()\n",
        "plt.savefig(\"variance.eps\")\n",
        "plt.show()"
      ],
      "execution_count": null,
      "outputs": [
        {
          "output_type": "display_data",
          "data": {
            "image/png": "[encoded data removed]",
            "text/plain": [
              "<Figure size 432x288 with 1 Axes>"
            ]
          },
          "metadata": {
            "tags": [],
            "needs_background": "light"
          }
        }
      ]
    },
    {
      "cell_type": "code",
      "metadata": {
        "id": "KzYANsKovL2p"
      },
      "source": [
        "#得られた主成分\n",
        "pc_parm = pd.DataFrame(pca.components_, columns=x.columns[0:], index=[\"PC{}\".format(i+1) for i in range(len(x.columns))])"
      ],
      "execution_count": null,
      "outputs": []
    },
    {
      "cell_type": "code",
      "metadata": {
        "id": "YYNIqT5Oxm3v"
      },
      "source": [
        "#ランダムフォレストによる分類器を呼び出す\n",
        "#yの分布が不均衡なため, class_weight = \"balanced\"とした\n",
        "from sklearn.ensemble import RandomForestClassifier\n",
        "clf = RandomForestClassifier(max_depth=2, random_state=0, class_weight=\"balanced\")"
      ],
      "execution_count": null,
      "outputs": []
    },
    {
      "cell_type": "markdown",
      "metadata": {
        "id": "iSMv73Lx3ySU"
      },
      "source": [
        ""
      ]
    },
    {
      "cell_type": "code",
      "metadata": {
        "id": "-11G38YfzyAi"
      },
      "source": [
        "#投入するPCの数を順次増やしながらそれぞれの精度を測る\n",
        "from sklearn.metrics import f1_score\n",
        "from sklearn.model_selection import train_test_split\n",
        "sc = []\n",
        "fs = []\n",
        "pc2 = pd.DataFrame()\n",
        "\n",
        "for i,feat in enumerate(pc):\n",
        "  pc2 = pd.concat([pc2, pc[feat]], axis=1)\n",
        "  PC_train, PC_test, y_train, y_test = train_test_split(pc2, y, test_size=0.4, random_state=0)\n",
        "  clf.fit(PC_train, y_train)\n",
        "  sc.append(clf.score(PC_test, y_test))\n",
        "  fs.append(f1_score(y_test, clf.predict(PC_test), average=None))"
      ],
      "execution_count": null,
      "outputs": []
    },
    {
      "cell_type": "code",
      "metadata": {
        "colab": {
          "base_uri": "https://localhost:8080/",
          "height": 279
        },
        "id": "Jobhy7PG3_JU",
        "outputId": "4067c10b-d7e8-4d94-b922-961a253e3ec6"
      },
      "source": [
        "#正解率をプロット\n",
        "\n",
        "plt.plot(range(1, len(pc2.columns)+1), sc, \"-o\")\n",
        "\n",
        "start, end = 1, 19\n",
        "stepsize = 1\n",
        "\n",
        "#plt.title(\"accuracy per total of PC\", fontsize=20)\n",
        "plt.xticks (np.arange(start, end, stepsize)) \n",
        "plt.xlabel('total of PC')\n",
        "plt.ylabel(\"accuracy\", fontsize=15)\n",
        "\n",
        "plt.grid()\n",
        "plt.savefig(\"accu.eps\")\n",
        "plt.show()"
      ],
      "execution_count": null,
      "outputs": [
        {
          "output_type": "display_data",
          "data": {
            "image/png": "[encoded data removed]",
            "text/plain": [
              "<Figure size 432x288 with 1 Axes>"
            ]
          },
          "metadata": {
            "tags": [],
            "needs_background": "light"
          }
        }
      ]
    },
    {
      "cell_type": "code",
      "metadata": {
        "colab": {
          "base_uri": "https://localhost:8080/",
          "height": 319
        },
        "id": "wJPYQwFtDBC1",
        "outputId": "a717fd42-1fae-4634-b094-393153b63d79"
      },
      "source": [
        "#F値をプロット\n",
        "\n",
        "fs_data = pd.DataFrame(fs, columns=[\"1:worst\", \"2:bad\", \"3:good\", \"4:best\"])\n",
        "worst = fs_data[\"1:worst\"]\n",
        "bad = fs_data[\"2:bad\"]\n",
        "good = fs_data[\"3:good\"]\n",
        "best = fs_data[\"4:best\"]\n",
        "\n",
        "plt.plot(range(1, len(pc2.columns)+1), worst, \"-o\", label=\"1:worst\")\n",
        "plt.plot(range(1, len(pc2.columns)+1), bad, \"-o\", label=\"2:bad\")\n",
        "plt.plot(range(1, len(pc2.columns)+1), good, \"-o\", label=\"3:good\")\n",
        "plt.plot(range(1, len(pc2.columns)+1), best, \"-o\", label=\"4:best\")\n",
        "\n",
        "start, end = 1, 19\n",
        "stepsize = 1\n",
        "\n",
        "\n",
        "#plt.title(\"F score per label\", fontsize=20)\n",
        "plt.xticks (np.arange(start, end, stepsize)) \n",
        "plt.xlabel(\"total of PC\", fontsize=15)\n",
        "plt.ylabel(\"F score\", fontsize=15)\n",
        "\n",
        "plt.grid()\n",
        "\n",
        "\n",
        "plt.legend(bbox_to_anchor=(1.25, 0.5), loc='lower right', borderaxespad=0, fontsize=13)\n",
        "plt.savefig(\"fscore.eps\", bbox_inches='tight')\n",
        "plt.show()"
      ],
      "execution_count": null,
      "outputs": [
        {
          "output_type": "stream",
          "text": [
            "The PostScript backend does not support transparency; partially transparent artists will be rendered opaque.\n",
            "The PostScript backend does not support transparency; partially transparent artists will be rendered opaque.\n"
          ],
          "name": "stderr"
        },
        {
          "output_type": "display_data",
          "data": {
            "image/png": "[encoded data removed]",
            "text/plain": [
              "<Figure size 432x288 with 1 Axes>"
            ]
          },
          "metadata": {
            "tags": [],
            "needs_background": "light"
          }
        }
      ]
    },
    {
      "cell_type": "code",
      "metadata": {
        "colab": {
          "base_uri": "https://localhost:8080/",
          "height": 305
        },
        "id": "34oD8VTp4Hkp",
        "outputId": "54736266-a3a7-40d3-e553-5a00b7e0c252"
      },
      "source": [
        "#分類器の設定した変数に対する重みをプロット\n",
        "\n",
        "plt.bar(range(1, len(clf.feature_importances_)+1), clf.feature_importances_)\n",
        "plt.xlabel(\"nubmer of PC\", fontsize=15)\n",
        "plt.title(\"feature importances of PC\", fontsize=20)\n",
        "start, end = 1, 19\n",
        "stepsize = 1\n",
        "\n",
        "plt.grid()\n",
        "plt.xticks (np.arange(start, end, stepsize)) \n",
        "plt.savefig(\"feature.eps\")\n"
      ],
      "execution_count": null,
      "outputs": [
        {
          "output_type": "display_data",
          "data": {
            "image/png": "[encoded data removed]",
            "text/plain": [
              "<Figure size 432x288 with 1 Axes>"
            ]
          },
          "metadata": {
            "tags": [],
            "needs_background": "light"
          }
        }
      ]
    },
    {
      "cell_type": "code",
      "metadata": {
        "id": "DioII3D5q3CG"
      },
      "source": [
        "#主成分を重みの大きい順に並べ替える\n",
        "\n",
        "tmp = clf.feature_importances_\n",
        "ind = list(range(1,len(tmp)+1))\n",
        "\n",
        "for i in range(0, len(tmp)-1):\n",
        "  for j in range(i+1, len(tmp)):\n",
        "    if tmp[i] <= tmp[j]:\n",
        "     tmp[i], tmp[j] = tmp[j], tmp[i]\n",
        "     ind[i], ind[j] = ind[j], ind[i]\n",
        "\n",
        "ind = [\"PC{}\".format(ind[i]) for i in range(len(ind))]"
      ],
      "execution_count": null,
      "outputs": []
    },
    {
      "cell_type": "code",
      "metadata": {
        "id": "RlIAVBWg0aC3"
      },
      "source": [
        "#重みの大きい主成分から順に投入して精度を測る\n",
        "\n",
        "sc2 = []\n",
        "fs2 = []\n",
        "pc2 = pd.DataFrame()\n",
        "\n",
        "for i,feat in enumerate(ind):\n",
        "  pc2 = pd.concat([pc2, pc[feat]], axis=1)\n",
        "  PC_train, PC_test, y_train, y_test = train_test_split(pc2, y, test_size=0.4, random_state=0)\n",
        "  clf.fit(PC_train, y_train)\n",
        "  sc2.append(clf.score(PC_test, y_test))\n",
        "  fs2.append(f1_score(y_test, clf.predict(PC_test), average=None))"
      ],
      "execution_count": null,
      "outputs": []
    },
    {
      "cell_type": "code",
      "metadata": {
        "colab": {
          "base_uri": "https://localhost:8080/",
          "height": 284
        },
        "id": "iXsnCJY2RZHt",
        "outputId": "e61171fb-f2f6-4f23-96c4-e983dc0227fc"
      },
      "source": [
        "#正解率のプロット\n",
        "plt.plot(range(1, len(pc2.columns)+1), sc2, \"-o\")\n",
        "\n",
        "start, end = 1, 19\n",
        "stepsize = 1\n",
        "\n",
        "plt.xticks (np.arange(start, end, stepsize)) \n",
        "plt.xlabel(\"total of PC\", fontsize=15)\n",
        "plt.ylabel(\"accuracy\", fontsize=15)\n",
        "\n",
        "plt.grid()\n",
        "plt.savefig(\"accu2.eps\")\n",
        "plt.show()"
      ],
      "execution_count": null,
      "outputs": [
        {
          "output_type": "display_data",
          "data": {
            "image/png": "[encoded data removed]",
            "text/plain": [
              "<Figure size 432x288 with 1 Axes>"
            ]
          },
          "metadata": {
            "tags": [],
            "needs_background": "light"
          }
        }
      ]
    },
    {
      "cell_type": "code",
      "metadata": {
        "colab": {
          "base_uri": "https://localhost:8080/",
          "height": 319
        },
        "id": "brWlaWgZV54k",
        "outputId": "cb16ed7e-5581-4caf-b6b3-80ce5a79115a"
      },
      "source": [
        "#F値のプロット\n",
        "fs2_data = pd.DataFrame(fs2, columns=[\"1:worst\", \"2:bad\", \"3:good\", \"4:best\"])\n",
        "\n",
        "worst = fs2_data[\"1:worst\"]\n",
        "bad = fs2_data[\"2:bad\"]\n",
        "good = fs2_data[\"3:good\"]\n",
        "best = fs2_data[\"4:best\"]\n",
        "\n",
        "plt.plot(range(1, len(pc2.columns)+1), worst, \"-o\", label=\"1:worst\")\n",
        "plt.plot(range(1, len(pc2.columns)+1), bad, \"-o\", label=\"2:bad\")\n",
        "plt.plot(range(1, len(pc2.columns)+1), good, \"-o\", label=\"3:good\")\n",
        "plt.plot(range(1, len(pc2.columns)+1), best, \"-o\", label=\"4:best\")\n",
        "\n",
        "start, end = 1, 19\n",
        "stepsize = 1\n",
        "\n",
        "plt.xticks (np.arange(start, end, stepsize)) \n",
        "plt.xlabel(\"total of PC\", fontsize=15)\n",
        "plt.ylabel(\"F score\", fontsize=15)\n",
        "\n",
        "plt.grid()\n",
        "\n",
        "\n",
        "plt.legend(bbox_to_anchor=(1.25, 0.5), loc='lower right', borderaxespad=0, fontsize=13)\n",
        "plt.savefig(\"fscore2.eps\", bbox_inches='tight')\n",
        "plt.show()"
      ],
      "execution_count": null,
      "outputs": [
        {
          "output_type": "stream",
          "text": [
            "The PostScript backend does not support transparency; partially transparent artists will be rendered opaque.\n",
            "The PostScript backend does not support transparency; partially transparent artists will be rendered opaque.\n"
          ],
          "name": "stderr"
        },
        {
          "output_type": "display_data",
          "data": {
            "image/png": "[encoded data removed]",
            "text/plain": [
              "<Figure size 432x288 with 1 Axes>"
            ]
          },
          "metadata": {
            "tags": [],
            "needs_background": "light"
          }
        }
      ]
    },
    {
      "cell_type": "code",
      "metadata": {
        "colab": {
          "base_uri": "https://localhost:8080/",
          "height": 374
        },
        "id": "4HnEsPqX3FTe",
        "outputId": "6d7ca66c-7066-4cba-c5db-8c73fec4104c"
      },
      "source": [
        "#yのテストデータと訓練データのヒストグラム\n",
        "plt.hist((y_train, y_test), label=[\"train\", \"test\"])\n",
        "plt.grid()\n",
        "\n",
        "plt.legend(bbox_to_anchor=(0.95, 0.95), loc='upper right', borderaxespad=0, fontsize=18)\n",
        "\n",
        "plt.xlabel(\"Score(1:worst 2:bad 3:good 4:best)\", fontsize=15)\n",
        "plt.ylabel(\"N\", fontsize=15)\n",
        "\n",
        "plt.savefig(\"label.eps\")"
      ],
      "execution_count": null,
      "outputs": [
        {
          "output_type": "stream",
          "text": [
            "/usr/local/lib/python3.7/dist-packages/numpy/core/_asarray.py:83: VisibleDeprecationWarning: Creating an ndarray from ragged nested sequences (which is a list-or-tuple of lists-or-tuples-or ndarrays with different lengths or shapes) is deprecated. If you meant to do this, you must specify 'dtype=object' when creating the ndarray\n",
            "  return array(a, dtype, copy=False, order=order)\n",
            "The PostScript backend does not support transparency; partially transparent artists will be rendered opaque.\n",
            "The PostScript backend does not support transparency; partially transparent artists will be rendered opaque.\n"
          ],
          "name": "stderr"
        },
        {
          "output_type": "display_data",
          "data": {
            "image/png": "[encoded data removed]",
            "text/plain": [
              "<Figure size 432x288 with 1 Axes>"
            ]
          },
          "metadata": {
            "tags": [],
            "needs_background": "light"
          }
        }
      ]
    },
    {
      "cell_type": "code",
      "metadata": {
        "id": "QaOEKVzqijze"
      },
      "source": [
        "#正解率とF値の結果から重みの大きい主成分を5つ採用することにした\n",
        "pc3 = pc[ind[0:5]]\n",
        "pc_test = pd.DataFrame(pc3\n",
        "                       #.loc[y_test.index]\n",
        "                       )"
      ],
      "execution_count": null,
      "outputs": []
    },
    {
      "cell_type": "code",
      "metadata": {
        "colab": {
          "base_uri": "https://localhost:8080/",
          "height": 284
        },
        "id": "EhJ5r7WqLMPC",
        "outputId": "9ab7739f-97d6-445f-faca-921044a9d243"
      },
      "source": [
        "y_test_df = pd.concat((pc_test, y), axis=1)\n",
        "y_test_df.head(8)"
      ],
      "execution_count": null,
      "outputs": [
        {
          "output_type": "execute_result",
          "data": {
            "text/html": [
              "<div>\n",
              "<style scoped>\n",
              "    .dataframe tbody tr th:only-of-type {\n",
              "        vertical-align: middle;\n",
              "    }\n",
              "\n",
              "    .dataframe tbody tr th {\n",
              "        vertical-align: top;\n",
              "    }\n",
              "\n",
              "    .dataframe thead th {\n",
              "        text-align: right;\n",
              "    }\n",
              "</style>\n",
              "<table border=\"1\" class=\"dataframe\">\n",
              "  <thead>\n",
              "    <tr style=\"text-align: right;\">\n",
              "      <th></th>\n",
              "      <th>PC2</th>\n",
              "      <th>PC7</th>\n",
              "      <th>PC4</th>\n",
              "      <th>PC3</th>\n",
              "      <th>PC14</th>\n",
              "      <th>Score(1:worst 2:bad 3:good 4:best)</th>\n",
              "    </tr>\n",
              "  </thead>\n",
              "  <tbody>\n",
              "    <tr>\n",
              "      <th>0</th>\n",
              "      <td>-0.684983</td>\n",
              "      <td>-0.392066</td>\n",
              "      <td>-0.800586</td>\n",
              "      <td>0.538926</td>\n",
              "      <td>-0.017594</td>\n",
              "      <td>2</td>\n",
              "    </tr>\n",
              "    <tr>\n",
              "      <th>1</th>\n",
              "      <td>-2.260374</td>\n",
              "      <td>0.106004</td>\n",
              "      <td>0.068268</td>\n",
              "      <td>0.798101</td>\n",
              "      <td>-0.015140</td>\n",
              "      <td>1</td>\n",
              "    </tr>\n",
              "    <tr>\n",
              "      <th>2</th>\n",
              "      <td>0.096641</td>\n",
              "      <td>0.158788</td>\n",
              "      <td>0.576818</td>\n",
              "      <td>2.100192</td>\n",
              "      <td>0.014131</td>\n",
              "      <td>2</td>\n",
              "    </tr>\n",
              "    <tr>\n",
              "      <th>3</th>\n",
              "      <td>-0.572415</td>\n",
              "      <td>-1.892490</td>\n",
              "      <td>0.641912</td>\n",
              "      <td>-1.004114</td>\n",
              "      <td>0.046503</td>\n",
              "      <td>2</td>\n",
              "    </tr>\n",
              "    <tr>\n",
              "      <th>4</th>\n",
              "      <td>3.456380</td>\n",
              "      <td>0.651688</td>\n",
              "      <td>0.183290</td>\n",
              "      <td>-0.841936</td>\n",
              "      <td>-0.063091</td>\n",
              "      <td>2</td>\n",
              "    </tr>\n",
              "    <tr>\n",
              "      <th>5</th>\n",
              "      <td>-0.166356</td>\n",
              "      <td>0.173272</td>\n",
              "      <td>-0.515157</td>\n",
              "      <td>-1.151758</td>\n",
              "      <td>0.045740</td>\n",
              "      <td>2</td>\n",
              "    </tr>\n",
              "    <tr>\n",
              "      <th>6</th>\n",
              "      <td>-0.854104</td>\n",
              "      <td>-0.176305</td>\n",
              "      <td>-0.507307</td>\n",
              "      <td>-1.199135</td>\n",
              "      <td>0.077728</td>\n",
              "      <td>2</td>\n",
              "    </tr>\n",
              "    <tr>\n",
              "      <th>7</th>\n",
              "      <td>0.809889</td>\n",
              "      <td>-0.836836</td>\n",
              "      <td>-0.339122</td>\n",
              "      <td>-1.141031</td>\n",
              "      <td>-0.041439</td>\n",
              "      <td>2</td>\n",
              "    </tr>\n",
              "  </tbody>\n",
              "</table>\n",
              "</div>"
            ],
            "text/plain": [
              "        PC2       PC7  ...      PC14  Score(1:worst 2:bad 3:good 4:best)\n",
              "0 -0.684983 -0.392066  ... -0.017594                                   2\n",
              "1 -2.260374  0.106004  ... -0.015140                                   1\n",
              "2  0.096641  0.158788  ...  0.014131                                   2\n",
              "3 -0.572415 -1.892490  ...  0.046503                                   2\n",
              "4  3.456380  0.651688  ... -0.063091                                   2\n",
              "5 -0.166356  0.173272  ...  0.045740                                   2\n",
              "6 -0.854104 -0.176305  ...  0.077728                                   2\n",
              "7  0.809889 -0.836836  ... -0.041439                                   2\n",
              "\n",
              "[8 rows x 6 columns]"
            ]
          },
          "metadata": {
            "tags": []
          },
          "execution_count": 25
        }
      ]
    },
    {
      "cell_type": "code",
      "metadata": {
        "colab": {
          "base_uri": "https://localhost:8080/",
          "height": 423
        },
        "id": "QpF93esyHRSb",
        "outputId": "336ad4ca-a3da-4b83-dfc8-514ce511f7b1"
      },
      "source": [
        "#テストデータの主成分得点の散布図をプロット\n",
        "\n",
        "fig, ax = plt.subplots(nrows=2, ncols=5, figsize=(12,6))\n",
        "plt.subplots_adjust(wspace=0.5, hspace=0.5)\n",
        "\n",
        "labels = [\"1:worst\", \"2:bad\", \"3:good\", \"4:best\"]\n",
        "groups = y_test_df.groupby(\"Score(1:worst 2:bad 3:good 4:best)\")\n",
        "\n",
        "counti, countj = 0, 0\n",
        "\n",
        "for i in range(0, len(y_test_df.columns)-2):\n",
        "  for j in range(i+1, len(y_test_df.columns)-1):\n",
        "    colx, coly = y_test_df.columns[i], y_test_df.columns[j]\n",
        "    for l, (status, group) in zip(labels, groups):\n",
        "      ax[counti,countj].plot(group[colx], group[coly],marker='o', linestyle='', ms=4, label=l)\n",
        "      ax[counti,countj].set(xlabel=colx, ylabel=coly)\n",
        "    countj = countj + 1  \n",
        "    if(countj >= 5):\n",
        "      counti = counti + 1\n",
        "      countj = 0\n",
        "\n",
        "plt.legend(bbox_to_anchor=(1.8, 2.0), loc='upper right', borderaxespad=0, fontsize=10)\n",
        "plt.savefig(\"opi.eps\")\n",
        "plt.show()"
      ],
      "execution_count": null,
      "outputs": [
        {
          "output_type": "stream",
          "text": [
            "The PostScript backend does not support transparency; partially transparent artists will be rendered opaque.\n",
            "The PostScript backend does not support transparency; partially transparent artists will be rendered opaque.\n"
          ],
          "name": "stderr"
        },
        {
          "output_type": "display_data",
          "data": {
            "image/png": "[encoded data removed]",
            "text/plain": [
              "<Figure size 864x432 with 10 Axes>"
            ]
          },
          "metadata": {
            "tags": [],
            "needs_background": "light"
          }
        }
      ]
    },
    {
      "cell_type": "code",
      "metadata": {
        "id": "9UG2HkHKb8KK"
      },
      "source": [
        "#主成分をcsvファイルとして保存\n",
        "round(pc_parm.T[ind[0:5]], 3).to_csv(\"pc_parm.csv\")"
      ],
      "execution_count": null,
      "outputs": []
    },
    {
      "cell_type": "code",
      "metadata": {
        "id": "wWIOr5gtIYxJ"
      },
      "source": [
        "#正解率とF値の推移をcsvファイルとして保存\n",
        "pd.DataFrame(np.c_[sc, fs, sc2, fs2]).to_csv(\"acuuracy_fscore.csv\")"
      ],
      "execution_count": null,
      "outputs": []
    }
  ]
}