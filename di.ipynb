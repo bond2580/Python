{
  "nbformat": 4,
  "nbformat_minor": 0,
  "metadata": {
    "colab": {
      "name": "dip2.ipynb",
      "provenance": [],
      "collapsed_sections": []
    },
    "kernelspec": {
      "name": "python3",
      "display_name": "Python 3"
    }
  },
  "cells": [
    {
      "cell_type": "code",
      "metadata": {
        "id": "y34c5WLQgTBB"
      },
      "source": [
        "import pandas as pd\n",
        "import numpy as np\n",
        "import sklearn\n",
        "import re\n",
        "import statsmodels.api as sm \n",
        "import statsmodels.formula.api as smf\n",
        "import statistics"
      ],
      "execution_count": null,
      "outputs": []
    },
    {
      "cell_type": "code",
      "metadata": {
        "id": "vZsaiaw-jgG_"
      },
      "source": [
        "#データセット読み込み\n",
        "y = pd.read_csv(\"train_y.csv\", encoding=\"utf-8\", engine='python')\n",
        "x = pd.read_csv(\"train_x (1).csv\", encoding=\"utf-8\", engine='python')\n",
        "\n",
        "#目的変数と説明変数に分ける\n",
        "xy = pd.concat([y, x], axis=1)\n",
        "y2 = xy[\"応募数 合計\"]\n",
        "x = xy.drop([\"応募数 合計\", \"お仕事No.\"], axis=1)"
      ],
      "execution_count": null,
      "outputs": []
    },
    {
      "cell_type": "code",
      "metadata": {
        "colab": {
          "base_uri": "https://localhost:8080/",
          "height": 648
        },
        "id": "5BH3XzLjzdjm",
        "outputId": "95ec2564-ea9d-4d27-80e8-22e4969d1ca1"
      },
      "source": [
        "#新たな特徴量を生成\n",
        "\n",
        "#給与/交通費　備考のリストに含まれる文字列から給料の値を抽出する\n",
        "result = []\n",
        "\n",
        "for i in range(len(x)):\n",
        "  ans = ['nan', 'nan']\n",
        "  if type(x[\"給与/交通費\\u3000備考\"][i]) == str:\n",
        "    ans = re.findall(r\"\\d+\", x[\"給与/交通費\\u3000備考\"][i]) \n",
        "    if len(ans) == 0:\n",
        "      ans = ['nan', 'nan']\n",
        "  \n",
        "  result.append(ans)\n",
        "  #NaNは中央値で埋める\n",
        "  x[\"給与/交通費\\u3000備考\"][i]   = float(result[i][0]) * 10000 + float(result[i][1])\n",
        "  \n",
        "\n",
        "#k = pd.DataFrame( x[\"給与/交通費\\u3000備考\"])\n",
        "#k = k.fillna(statistics.median(x[\"給与/交通費\\u3000備考\"]))\n",
        "#x[\"給与/交通費\\u3000備考\"] = k\n",
        "#x[\"給与/交通費\\u3000備考\"]\n",
        "\n",
        "#給与のリストに含まれる文字列から給料の値(単位: 万)を抽出する\n",
        "\n",
        "result = []\n",
        "\n",
        "for i in range(len(x)):\n",
        "  ans = ['nan']\n",
        "  if type(x['（紹介予定）年収・給与例'][i]) == str:\n",
        "    ans = re.findall(r\"\\d+\", x['（紹介予定）年収・給与例'][i])\n",
        "    if len(ans) == 0:\n",
        "      ans = ['nan']\n",
        "\n",
        "  result.append(ans)\n",
        "  x['（紹介予定）年収・給与例'][i] = float(result[i][0]) \n",
        "\n",
        "k = pd.DataFrame( x[\"（紹介予定）年収・給与例\"])\n",
        "k = k.fillna(statistics.median(x[\"（紹介予定）年収・給与例\"]))\n",
        "x[\"（紹介予定）年収・給与例\"] = k\n",
        "\n",
        "\n",
        "#期間・時間\\u3000勤務時間から仕事の開始時間と終了時間を抽出\n",
        "\n",
        "result = []\n",
        "start = []\n",
        "end = []\n",
        "\n",
        "for i in range(len(x)):\n",
        "  ans = ['nan','nan', 'nan','nan']\n",
        "  if type(x[\"期間・時間\\u3000勤務時間\"][i]) == str:\n",
        "    ans = re.findall(r\"\\d+\",x[\"期間・時間\\u3000勤務時間\"][i])\n",
        "    if len(ans) == 0:\n",
        "      #何も抽出できなかった場合は次のもので埋める\n",
        "      ans =  ['nan','nan', 'nan','nan']\n",
        "  \n",
        "  a = float(ans[0]) + float(ans[1]) / 60\n",
        "  b = float(ans[2]) + float(ans[3]) / 60\n",
        "\n",
        "  start.append(a)\n",
        "  end.append(b)\n",
        "  \n",
        "jikan = pd.DataFrame((start,end)).T\n",
        "jikan.columns = [\"開始時刻\",\"終了時刻\"]\n",
        "\n",
        "jikan[\"開始時刻\"] = jikan.fillna(statistics.median(jikan[\"開始時刻\"]))\n",
        "jikan[\"終了時刻\"] = jikan.fillna(statistics.median(jikan[\"終了時刻\"]))\n",
        "jikan"
      ],
      "execution_count": null,
      "outputs": [
        {
          "output_type": "stream",
          "text": [
            "/usr/local/lib/python3.6/dist-packages/ipykernel_launcher.py:15: SettingWithCopyWarning: \n",
            "A value is trying to be set on a copy of a slice from a DataFrame\n",
            "\n",
            "See the caveats in the documentation: https://pandas.pydata.org/pandas-docs/stable/user_guide/indexing.html#returning-a-view-versus-a-copy\n",
            "  from ipykernel import kernelapp as app\n",
            "/usr/local/lib/python3.6/dist-packages/IPython/core/interactiveshell.py:2882: SettingWithCopyWarning: \n",
            "A value is trying to be set on a copy of a slice from a DataFrame\n",
            "\n",
            "See the caveats in the documentation: https://pandas.pydata.org/pandas-docs/stable/user_guide/indexing.html#returning-a-view-versus-a-copy\n",
            "  exec(code_obj, self.user_global_ns, self.user_ns)\n",
            "/usr/local/lib/python3.6/dist-packages/ipykernel_launcher.py:35: SettingWithCopyWarning: \n",
            "A value is trying to be set on a copy of a slice from a DataFrame\n",
            "\n",
            "See the caveats in the documentation: https://pandas.pydata.org/pandas-docs/stable/user_guide/indexing.html#returning-a-view-versus-a-copy\n"
          ],
          "name": "stderr"
        },
        {
          "output_type": "execute_result",
          "data": {
            "text/html": [
              "<div>\n",
              "<style scoped>\n",
              "    .dataframe tbody tr th:only-of-type {\n",
              "        vertical-align: middle;\n",
              "    }\n",
              "\n",
              "    .dataframe tbody tr th {\n",
              "        vertical-align: top;\n",
              "    }\n",
              "\n",
              "    .dataframe thead th {\n",
              "        text-align: right;\n",
              "    }\n",
              "</style>\n",
              "<table border=\"1\" class=\"dataframe\">\n",
              "  <thead>\n",
              "    <tr style=\"text-align: right;\">\n",
              "      <th></th>\n",
              "      <th>開始時刻</th>\n",
              "      <th>終了時刻</th>\n",
              "    </tr>\n",
              "  </thead>\n",
              "  <tbody>\n",
              "    <tr>\n",
              "      <th>0</th>\n",
              "      <td>9.5</td>\n",
              "      <td>9.5</td>\n",
              "    </tr>\n",
              "    <tr>\n",
              "      <th>1</th>\n",
              "      <td>9.0</td>\n",
              "      <td>9.0</td>\n",
              "    </tr>\n",
              "    <tr>\n",
              "      <th>2</th>\n",
              "      <td>9.0</td>\n",
              "      <td>9.0</td>\n",
              "    </tr>\n",
              "    <tr>\n",
              "      <th>3</th>\n",
              "      <td>9.0</td>\n",
              "      <td>9.0</td>\n",
              "    </tr>\n",
              "    <tr>\n",
              "      <th>4</th>\n",
              "      <td>9.0</td>\n",
              "      <td>9.0</td>\n",
              "    </tr>\n",
              "    <tr>\n",
              "      <th>...</th>\n",
              "      <td>...</td>\n",
              "      <td>...</td>\n",
              "    </tr>\n",
              "    <tr>\n",
              "      <th>15848</th>\n",
              "      <td>8.5</td>\n",
              "      <td>8.5</td>\n",
              "    </tr>\n",
              "    <tr>\n",
              "      <th>15849</th>\n",
              "      <td>10.0</td>\n",
              "      <td>10.0</td>\n",
              "    </tr>\n",
              "    <tr>\n",
              "      <th>15850</th>\n",
              "      <td>10.0</td>\n",
              "      <td>10.0</td>\n",
              "    </tr>\n",
              "    <tr>\n",
              "      <th>15851</th>\n",
              "      <td>9.0</td>\n",
              "      <td>9.0</td>\n",
              "    </tr>\n",
              "    <tr>\n",
              "      <th>15852</th>\n",
              "      <td>9.0</td>\n",
              "      <td>9.0</td>\n",
              "    </tr>\n",
              "  </tbody>\n",
              "</table>\n",
              "<p>15853 rows × 2 columns</p>\n",
              "</div>"
            ],
            "text/plain": [
              "       開始時刻  終了時刻\n",
              "0       9.5   9.5\n",
              "1       9.0   9.0\n",
              "2       9.0   9.0\n",
              "3       9.0   9.0\n",
              "4       9.0   9.0\n",
              "...     ...   ...\n",
              "15848   8.5   8.5\n",
              "15849  10.0  10.0\n",
              "15850  10.0  10.0\n",
              "15851   9.0   9.0\n",
              "15852   9.0   9.0\n",
              "\n",
              "[15853 rows x 2 columns]"
            ]
          },
          "metadata": {
            "tags": []
          },
          "execution_count": 298
        }
      ]
    },
    {
      "cell_type": "code",
      "metadata": {
        "id": "Gvp63csgjg2z"
      },
      "source": [
        "#質的データの中からダミー変数にした時に必要以上に多くなりそうな変数とそうでない変数に場合分け\n",
        "\n",
        "name = x.columns\n",
        "x_dum = []\n",
        "x_dro = []\n",
        "t = 10\n",
        "\n",
        "for i in range(0, len(x.columns)):\n",
        "  for j in range(0, len(x)):\n",
        "    if type(x[name[i]][j]) == str:\n",
        "      dum = pd.get_dummies(x[name[i]])\n",
        "      if len(dum.columns) < t:\n",
        "        x_dum.append(name[i]) #ダミーが多くなる変数\n",
        "      else:\n",
        "        x_dro.append(name[i]) #ダミーが小さくなる変数\n",
        "      break\n",
        "\n",
        "#データを整形\n",
        "\n",
        "\n",
        "x2 = x.drop(x_dro, axis=1) \n",
        "dum = pd.get_dummies(x[x_dum])\n",
        "#結果的にダミー変数を採用しない方が誤差が小さかった.\n",
        "x2 = x2.drop(x_dum, axis=1)\n",
        "x2 = pd.concat((x2, jikan), axis=1)"
      ],
      "execution_count": null,
      "outputs": []
    },
    {
      "cell_type": "code",
      "metadata": {
        "id": "CpzMVJLxz90y"
      },
      "source": [
        "na = [\"開始時刻\",\"終了時刻\", \"給与/交通費　備考\", \"給与/交通費　給与上限\",\"（紹介予定）年収・給与例\",\"給与/交通費　給与下限\", \"給与/交通費　交通費\"]"
      ],
      "execution_count": null,
      "outputs": []
    },
    {
      "cell_type": "code",
      "metadata": {
        "colab": {
          "base_uri": "https://localhost:8080/"
        },
        "id": "FNY76QNHxubu",
        "outputId": "7bfdc566-592c-44c3-f554-146850274721"
      },
      "source": [
        "#お金と時間に関わる変数のNaNを中央値で埋める\n",
        "for n in na:\n",
        "  print(n)\n",
        "  x2[n] = x2[n].fillna(statistics.median(x2[n]))"
      ],
      "execution_count": null,
      "outputs": [
        {
          "output_type": "stream",
          "text": [
            "開始時刻\n",
            "終了時刻\n",
            "給与/交通費　備考\n",
            "給与/交通費　給与上限\n",
            "（紹介予定）年収・給与例\n",
            "給与/交通費　給与下限\n",
            "給与/交通費　交通費\n"
          ],
          "name": "stdout"
        }
      ]
    },
    {
      "cell_type": "code",
      "metadata": {
        "id": "vF6T2wfVXwwB"
      },
      "source": [
        "x2[\"（紹介予定）年収・給与例\"] = x2[\"（紹介予定）年収・給与例\"].fillna(250) "
      ],
      "execution_count": null,
      "outputs": []
    },
    {
      "cell_type": "code",
      "metadata": {
        "colab": {
          "base_uri": "https://localhost:8080/",
          "height": 310
        },
        "id": "LFOy1PSW3Tx1",
        "outputId": "ca7cbf5b-4fa3-4840-8bf9-48161e520fe3"
      },
      "source": [
        "#訓練データとテストデータに分ける\n",
        "\n",
        "from sklearn.model_selection import train_test_split\n",
        "X_train, X_test, y_train, y_test = train_test_split(x2, y2, test_size=0.2, random_state=0)\n",
        "X_train.head(1)"
      ],
      "execution_count": null,
      "outputs": [
        {
          "output_type": "execute_result",
          "data": {
            "text/html": [
              "<div>\n",
              "<style scoped>\n",
              "    .dataframe tbody tr th:only-of-type {\n",
              "        vertical-align: middle;\n",
              "    }\n",
              "\n",
              "    .dataframe tbody tr th {\n",
              "        vertical-align: top;\n",
              "    }\n",
              "\n",
              "    .dataframe thead th {\n",
              "        text-align: right;\n",
              "    }\n",
              "</style>\n",
              "<table border=\"1\" class=\"dataframe\">\n",
              "  <thead>\n",
              "    <tr style=\"text-align: right;\">\n",
              "      <th></th>\n",
              "      <th>職場の様子</th>\n",
              "      <th>（紹介予定）入社後の雇用形態</th>\n",
              "      <th>勤務地　最寄駅3（駅名）</th>\n",
              "      <th>勤務地固定</th>\n",
              "      <th>休日休暇(月曜日)</th>\n",
              "      <th>応募先　名称</th>\n",
              "      <th>（派遣先）配属先部署　男女比　男</th>\n",
              "      <th>勤務地　最寄駅3（沿線名）</th>\n",
              "      <th>（派遣先）勤務先写真コメント</th>\n",
              "      <th>勤務地　最寄駅3（分）</th>\n",
              "      <th>無期雇用派遣</th>\n",
              "      <th>未使用.14</th>\n",
              "      <th>（派遣以外）応募後の流れ</th>\n",
              "      <th>（派遣先）概要　従業員数</th>\n",
              "      <th>電話応対なし</th>\n",
              "      <th>大手企業</th>\n",
              "      <th>週払い</th>\n",
              "      <th>週1日からOK</th>\n",
              "      <th>交通費別途支給</th>\n",
              "      <th>（派遣先）配属先部署　人数</th>\n",
              "      <th>固定残業制 残業代 下限</th>\n",
              "      <th>残業月20時間以上</th>\n",
              "      <th>職種コード</th>\n",
              "      <th>1日7時間以下勤務OK</th>\n",
              "      <th>ミドル（40〜）活躍中</th>\n",
              "      <th>ルーティンワークがメイン</th>\n",
              "      <th>未使用.11</th>\n",
              "      <th>短時間勤務OK(1日4h以内)</th>\n",
              "      <th>駅から徒歩5分以内</th>\n",
              "      <th>フリー項目　内容</th>\n",
              "      <th>先輩からのメッセージ</th>\n",
              "      <th>対象者設定　年齢下限</th>\n",
              "      <th>未使用.10</th>\n",
              "      <th>学校・公的機関（官公庁）</th>\n",
              "      <th>土日祝のみ勤務</th>\n",
              "      <th>Wordのスキルを活かす</th>\n",
              "      <th>未使用.8</th>\n",
              "      <th>経験必須</th>\n",
              "      <th>固定残業制 残業代に充当する労働時間数 下限</th>\n",
              "      <th>給与/交通費　給与支払区分</th>\n",
              "      <th>...</th>\n",
              "      <th>給与　経験者給与下限</th>\n",
              "      <th>勤務地　最寄駅1（駅からの交通手段）</th>\n",
              "      <th>学生歓迎</th>\n",
              "      <th>紹介予定派遣</th>\n",
              "      <th>固定残業制 残業代 上限</th>\n",
              "      <th>未使用.19</th>\n",
              "      <th>給与　経験者給与上限</th>\n",
              "      <th>シフト勤務</th>\n",
              "      <th>経験者優遇</th>\n",
              "      <th>週4日勤務</th>\n",
              "      <th>未経験OK</th>\n",
              "      <th>土日祝休み</th>\n",
              "      <th>給与/交通費　交通費</th>\n",
              "      <th>未使用.21</th>\n",
              "      <th>待遇・福利厚生</th>\n",
              "      <th>シニア（60〜）歓迎</th>\n",
              "      <th>ベンチャー企業</th>\n",
              "      <th>少人数の職場</th>\n",
              "      <th>仕事写真（下）　写真3　コメント</th>\n",
              "      <th>新卒・第二新卒歓迎</th>\n",
              "      <th>休日休暇(金曜日)</th>\n",
              "      <th>産休育休取得事例あり</th>\n",
              "      <th>扶養控除内</th>\n",
              "      <th>給与/交通費　給与下限</th>\n",
              "      <th>対象者設定　性別</th>\n",
              "      <th>WEB登録OK</th>\n",
              "      <th>応募先　備考</th>\n",
              "      <th>オフィスが禁煙・分煙</th>\n",
              "      <th>応募先　所在地　市区町村</th>\n",
              "      <th>仕事写真（下）　写真1　コメント</th>\n",
              "      <th>勤務地　市区町村コード</th>\n",
              "      <th>未使用.13</th>\n",
              "      <th>勤務地　最寄駅2（分）</th>\n",
              "      <th>応募拠点</th>\n",
              "      <th>給与/交通費　備考</th>\n",
              "      <th>残業なし</th>\n",
              "      <th>これまでの採用者例</th>\n",
              "      <th>（派遣先）概要　勤務先名（フリガナ）</th>\n",
              "      <th>開始時刻</th>\n",
              "      <th>終了時刻</th>\n",
              "    </tr>\n",
              "  </thead>\n",
              "  <tbody>\n",
              "    <tr>\n",
              "      <th>13515</th>\n",
              "      <td>3</td>\n",
              "      <td>NaN</td>\n",
              "      <td>NaN</td>\n",
              "      <td>1</td>\n",
              "      <td>0</td>\n",
              "      <td>NaN</td>\n",
              "      <td>6.0</td>\n",
              "      <td>NaN</td>\n",
              "      <td>NaN</td>\n",
              "      <td>NaN</td>\n",
              "      <td>NaN</td>\n",
              "      <td>NaN</td>\n",
              "      <td>NaN</td>\n",
              "      <td>NaN</td>\n",
              "      <td>NaN</td>\n",
              "      <td>0</td>\n",
              "      <td>NaN</td>\n",
              "      <td>0</td>\n",
              "      <td>0</td>\n",
              "      <td>5.0</td>\n",
              "      <td>NaN</td>\n",
              "      <td>1</td>\n",
              "      <td>22030</td>\n",
              "      <td>0</td>\n",
              "      <td>1</td>\n",
              "      <td>1</td>\n",
              "      <td>NaN</td>\n",
              "      <td>0</td>\n",
              "      <td>0</td>\n",
              "      <td>NaN</td>\n",
              "      <td>NaN</td>\n",
              "      <td>0</td>\n",
              "      <td>NaN</td>\n",
              "      <td>0</td>\n",
              "      <td>0</td>\n",
              "      <td>1</td>\n",
              "      <td>NaN</td>\n",
              "      <td>NaN</td>\n",
              "      <td>NaN</td>\n",
              "      <td>3</td>\n",
              "      <td>...</td>\n",
              "      <td>NaN</td>\n",
              "      <td>2.0</td>\n",
              "      <td>NaN</td>\n",
              "      <td>0</td>\n",
              "      <td>NaN</td>\n",
              "      <td>NaN</td>\n",
              "      <td>NaN</td>\n",
              "      <td>0</td>\n",
              "      <td>1</td>\n",
              "      <td>0</td>\n",
              "      <td>1</td>\n",
              "      <td>1</td>\n",
              "      <td>3</td>\n",
              "      <td>NaN</td>\n",
              "      <td>NaN</td>\n",
              "      <td>NaN</td>\n",
              "      <td>NaN</td>\n",
              "      <td>NaN</td>\n",
              "      <td>NaN</td>\n",
              "      <td>1</td>\n",
              "      <td>0</td>\n",
              "      <td>1</td>\n",
              "      <td>0</td>\n",
              "      <td>2850</td>\n",
              "      <td>1</td>\n",
              "      <td>1</td>\n",
              "      <td>NaN</td>\n",
              "      <td>1</td>\n",
              "      <td>NaN</td>\n",
              "      <td>NaN</td>\n",
              "      <td>111</td>\n",
              "      <td>NaN</td>\n",
              "      <td>NaN</td>\n",
              "      <td>NaN</td>\n",
              "      <td>463838.0</td>\n",
              "      <td>0</td>\n",
              "      <td>NaN</td>\n",
              "      <td>NaN</td>\n",
              "      <td>8.75</td>\n",
              "      <td>8.75</td>\n",
              "    </tr>\n",
              "  </tbody>\n",
              "</table>\n",
              "<p>1 rows × 183 columns</p>\n",
              "</div>"
            ],
            "text/plain": [
              "       職場の様子  （紹介予定）入社後の雇用形態  勤務地　最寄駅3（駅名）  ...  （派遣先）概要　勤務先名（フリガナ）  開始時刻  終了時刻\n",
              "13515      3             NaN           NaN  ...                 NaN  8.75  8.75\n",
              "\n",
              "[1 rows x 183 columns]"
            ]
          },
          "metadata": {
            "tags": []
          },
          "execution_count": 302
        }
      ]
    },
    {
      "cell_type": "markdown",
      "metadata": {
        "id": "JeHCYDuJ5RLq"
      },
      "source": [
        ""
      ]
    },
    {
      "cell_type": "code",
      "metadata": {
        "colab": {
          "base_uri": "https://localhost:8080/"
        },
        "id": "uh1oepWe89-A",
        "outputId": "522c545a-8fbb-4283-8b06-1fbe59a35e17"
      },
      "source": [
        "#分散が0となる (すべて値が同じ) データは変数から除外する\n",
        "\n",
        "from sklearn.feature_selection import VarianceThreshold\n",
        "sel = VarianceThreshold(threshold=0) \n",
        "sel.fit(X_train)\n",
        "\n",
        "X_train = X_train.loc[:, sel.get_support()]\n",
        "X_test = X_test.loc[:, sel.get_support()]\n",
        "\n",
        "X_train.shape"
      ],
      "execution_count": null,
      "outputs": [
        {
          "output_type": "stream",
          "text": [
            "/usr/local/lib/python3.6/dist-packages/sklearn/feature_selection/_variance_threshold.py:77: RuntimeWarning: Degrees of freedom <= 0 for slice.\n",
            "  self.variances_ = np.nanvar(X, axis=0)\n",
            "/usr/local/lib/python3.6/dist-packages/sklearn/feature_selection/_variance_threshold.py:85: RuntimeWarning: All-NaN slice encountered\n",
            "  self.variances_ = np.nanmin(compare_arr, axis=0)\n",
            "/usr/local/lib/python3.6/dist-packages/sklearn/feature_selection/_variance_threshold.py:88: RuntimeWarning: invalid value encountered in less_equal\n",
            "  (self.variances_ <= self.threshold)):\n",
            "/usr/local/lib/python3.6/dist-packages/sklearn/feature_selection/_variance_threshold.py:99: RuntimeWarning: invalid value encountered in greater\n",
            "  return self.variances_ > self.threshold\n"
          ],
          "name": "stderr"
        },
        {
          "output_type": "execute_result",
          "data": {
            "text/plain": [
              "(12682, 72)"
            ]
          },
          "metadata": {
            "tags": []
          },
          "execution_count": 303
        }
      ]
    },
    {
      "cell_type": "code",
      "metadata": {
        "id": "PEjHC160jraB"
      },
      "source": [
        "import xgboost as xgb\n",
        "from sklearn.model_selection import GridSearchCV\n",
        "from sklearn.model_selection import cross_validate,cross_val_predict, StratifiedKFold\n",
        "\n",
        "#GBDTモデルを作成\n",
        "reg = xgb.XGBRegressor()\n",
        "\n",
        "#フォールド数5のクロスヴァリデーションを行いながら\n",
        "#パラメータをグリッドサーチで最適化する\n",
        "\n",
        "reg_cv = GridSearchCV(reg, {'max_depth': [2, 6, 7], 'n_estimators': [400, 200, 100]}, verbose=1, cv=5, scoring=\"neg_mean_squared_error\")\n",
        "reg_cv.fit(X_train, y_train)\n",
        "print(reg_cv.best_params_, reg_cv.best_score_)"
      ],
      "execution_count": null,
      "outputs": []
    },
    {
      "cell_type": "code",
      "metadata": {
        "id": "gt8t7zEc2lFa"
      },
      "source": [
        "#最適化されたパラメータで再びモデル作成\n",
        "reg = xgb.XGBRegressor(**reg_cv.best_params_)\n",
        "reg.fit(X_train, y_train)"
      ],
      "execution_count": null,
      "outputs": []
    },
    {
      "cell_type": "code",
      "metadata": {
        "colab": {
          "base_uri": "https://localhost:8080/"
        },
        "id": "ZbKI-RAZ8vt5",
        "outputId": "e9eb31c5-8b08-4f43-d7cd-5eb0f80ff806"
      },
      "source": [
        "from sklearn.metrics import mean_squared_error\n",
        "\n",
        "#テストデータから応募者合計を予測\n",
        "ans = reg.predict(X_test)\n",
        "np.sqrt(mean_squared_error(ans, y_test))"
      ],
      "execution_count": null,
      "outputs": [
        {
          "output_type": "execute_result",
          "data": {
            "text/plain": [
              "0.589931808067223"
            ]
          },
          "metadata": {
            "tags": []
          },
          "execution_count": 306
        }
      ]
    },
    {
      "cell_type": "code",
      "metadata": {
        "id": "WTP5ElKEbxP2"
      },
      "source": [
        "#課題用のテストデータを読み込み\n",
        "test = pd.read_csv(\"test_x.csv\", encoding = \"utf-8\", engine=\"python\")\n",
        "jobnum = test[\"お仕事No.\"]\n",
        "test = test.drop(\"お仕事No.\", axis=1)"
      ],
      "execution_count": null,
      "outputs": []
    },
    {
      "cell_type": "markdown",
      "metadata": {
        "id": "rUcb98gz6OIq"
      },
      "source": [
        ""
      ]
    },
    {
      "cell_type": "markdown",
      "metadata": {
        "id": "D9SxAwYRN8Ct"
      },
      "source": [
        ""
      ]
    },
    {
      "cell_type": "code",
      "metadata": {
        "colab": {
          "base_uri": "https://localhost:8080/"
        },
        "id": "pwirXSsULB74",
        "outputId": "2e9a3e24-7d55-4874-e3f0-bdac8e580e54"
      },
      "source": [
        "test.shape#確認用"
      ],
      "execution_count": null,
      "outputs": [
        {
          "output_type": "execute_result",
          "data": {
            "text/plain": [
              "(3391, 211)"
            ]
          },
          "metadata": {
            "tags": []
          },
          "execution_count": 183
        }
      ]
    },
    {
      "cell_type": "code",
      "metadata": {
        "colab": {
          "base_uri": "https://localhost:8080/",
          "height": 560
        },
        "id": "OMmDooie6H3h",
        "outputId": "293ff6b6-9d62-4250-aba0-d2cd49bbfeb3"
      },
      "source": [
        "#新たな特徴量を生成\n",
        "\n",
        "#給与/交通費　備考のリストに含まれる文字列から給料の値を抽出する\n",
        "result = []\n",
        "\n",
        "for i in range(len(test)):\n",
        "  ans = ['nan', 'nan']\n",
        "  if type(test[\"給与/交通費\\u3000備考\"][i]) == str:\n",
        "    ans = re.findall(r\"\\d+\", test[\"給与/交通費\\u3000備考\"][i]) \n",
        "    if len(ans) == 0:\n",
        "      ans = ['nan', 'nan']\n",
        "  \n",
        "  result.append(ans)\n",
        " \n",
        "  test[\"給与/交通費\\u3000備考\"][i]   = float(result[i][0]) * 10000 + float(result[i][1])\n",
        "  \n",
        "#NaNは中央値で埋める\n",
        "k = pd.DataFrame(test[\"給与/交通費\\u3000備考\"])\n",
        "k = k.fillna(statistics.median(test[\"給与/交通費\\u3000備考\"]))\n",
        "test[\"給与/交通費\\u3000備考\"] = k\n",
        "\n",
        "\n",
        "#給与のリストに含まれる文字列から給料の値(単位: 万)を抽出する\n",
        "\n",
        "result = []\n",
        "\n",
        "for i in range(len(test)):\n",
        "  ans = ['nan']\n",
        "  if type(test['（紹介予定）年収・給与例'][i]) == str:\n",
        "    ans = re.findall(r\"\\d+\", test['（紹介予定）年収・給与例'][i])\n",
        "    if len(ans) == 0:\n",
        "      ans = ['nan']\n",
        "\n",
        "  result.append(ans)\n",
        "  test['（紹介予定）年収・給与例'][i] = float(result[i][0]) \n",
        "\n",
        "k = pd.DataFrame(test[\"（紹介予定）年収・給与例\"])\n",
        "k = k.fillna(statistics.median(test[\"（紹介予定）年収・給与例\"]))\n",
        "test[\"（紹介予定）年収・給与例\"] = k\n",
        "\n",
        "\n",
        "#期間・時間\\u3000勤務時間から仕事の開始時間と終了時間を抽出\n",
        "\n",
        "result = []\n",
        "start = []\n",
        "end = []\n",
        "\n",
        "for i in range(len(test)):\n",
        "  ans = ['nan','nan', 'nan','nan']\n",
        "  if type(test[\"期間・時間\\u3000勤務時間\"][i]) == str:\n",
        "    ans = re.findall(r\"\\d+\",test[\"期間・時間\\u3000勤務時間\"][i])\n",
        "    if len(ans) == 0:\n",
        "      #何も抽出できなかった場合は次のもので埋める\n",
        "      ans =  ['nan','nan', 'nan','nan']\n",
        "  \n",
        "  a = float(ans[0]) + float(ans[1]) / 60\n",
        "  b = float(ans[2]) + float(ans[3]) / 60\n",
        "\n",
        "  start.append(a)\n",
        "  end.append(b)\n",
        "  \n",
        "jikan = pd.DataFrame((start,end)).T\n",
        "jikan.columns = [\"開始時刻\",\"終了時刻\"]\n",
        "\n",
        "jikan[\"開始時刻\"] = jikan.fillna(statistics.median(jikan[\"開始時刻\"]))\n",
        "jikan[\"終了時刻\"] = jikan.fillna(statistics.median(jikan[\"終了時刻\"]))\n",
        "jikan"
      ],
      "execution_count": null,
      "outputs": [
        {
          "output_type": "stream",
          "text": [
            "/usr/local/lib/python3.6/dist-packages/ipykernel_launcher.py:15: SettingWithCopyWarning: \n",
            "A value is trying to be set on a copy of a slice from a DataFrame\n",
            "\n",
            "See the caveats in the documentation: https://pandas.pydata.org/pandas-docs/stable/user_guide/indexing.html#returning-a-view-versus-a-copy\n",
            "  from ipykernel import kernelapp as app\n",
            "/usr/local/lib/python3.6/dist-packages/ipykernel_launcher.py:35: SettingWithCopyWarning: \n",
            "A value is trying to be set on a copy of a slice from a DataFrame\n",
            "\n",
            "See the caveats in the documentation: https://pandas.pydata.org/pandas-docs/stable/user_guide/indexing.html#returning-a-view-versus-a-copy\n"
          ],
          "name": "stderr"
        },
        {
          "output_type": "execute_result",
          "data": {
            "text/html": [
              "<div>\n",
              "<style scoped>\n",
              "    .dataframe tbody tr th:only-of-type {\n",
              "        vertical-align: middle;\n",
              "    }\n",
              "\n",
              "    .dataframe tbody tr th {\n",
              "        vertical-align: top;\n",
              "    }\n",
              "\n",
              "    .dataframe thead th {\n",
              "        text-align: right;\n",
              "    }\n",
              "</style>\n",
              "<table border=\"1\" class=\"dataframe\">\n",
              "  <thead>\n",
              "    <tr style=\"text-align: right;\">\n",
              "      <th></th>\n",
              "      <th>開始時刻</th>\n",
              "      <th>終了時刻</th>\n",
              "    </tr>\n",
              "  </thead>\n",
              "  <tbody>\n",
              "    <tr>\n",
              "      <th>0</th>\n",
              "      <td>8.5</td>\n",
              "      <td>8.5</td>\n",
              "    </tr>\n",
              "    <tr>\n",
              "      <th>1</th>\n",
              "      <td>9.0</td>\n",
              "      <td>9.0</td>\n",
              "    </tr>\n",
              "    <tr>\n",
              "      <th>2</th>\n",
              "      <td>9.0</td>\n",
              "      <td>9.0</td>\n",
              "    </tr>\n",
              "    <tr>\n",
              "      <th>3</th>\n",
              "      <td>9.0</td>\n",
              "      <td>9.0</td>\n",
              "    </tr>\n",
              "    <tr>\n",
              "      <th>4</th>\n",
              "      <td>9.0</td>\n",
              "      <td>9.0</td>\n",
              "    </tr>\n",
              "    <tr>\n",
              "      <th>...</th>\n",
              "      <td>...</td>\n",
              "      <td>...</td>\n",
              "    </tr>\n",
              "    <tr>\n",
              "      <th>3386</th>\n",
              "      <td>9.0</td>\n",
              "      <td>9.0</td>\n",
              "    </tr>\n",
              "    <tr>\n",
              "      <th>3387</th>\n",
              "      <td>9.0</td>\n",
              "      <td>9.0</td>\n",
              "    </tr>\n",
              "    <tr>\n",
              "      <th>3388</th>\n",
              "      <td>10.0</td>\n",
              "      <td>10.0</td>\n",
              "    </tr>\n",
              "    <tr>\n",
              "      <th>3389</th>\n",
              "      <td>9.0</td>\n",
              "      <td>9.0</td>\n",
              "    </tr>\n",
              "    <tr>\n",
              "      <th>3390</th>\n",
              "      <td>9.0</td>\n",
              "      <td>9.0</td>\n",
              "    </tr>\n",
              "  </tbody>\n",
              "</table>\n",
              "<p>3391 rows × 2 columns</p>\n",
              "</div>"
            ],
            "text/plain": [
              "      開始時刻  終了時刻\n",
              "0      8.5   8.5\n",
              "1      9.0   9.0\n",
              "2      9.0   9.0\n",
              "3      9.0   9.0\n",
              "4      9.0   9.0\n",
              "...    ...   ...\n",
              "3386   9.0   9.0\n",
              "3387   9.0   9.0\n",
              "3388  10.0  10.0\n",
              "3389   9.0   9.0\n",
              "3390   9.0   9.0\n",
              "\n",
              "[3391 rows x 2 columns]"
            ]
          },
          "metadata": {
            "tags": []
          },
          "execution_count": 308
        }
      ]
    },
    {
      "cell_type": "code",
      "metadata": {
        "id": "8ksVs3ZxPts5"
      },
      "source": [
        "test2 = pd.concat((test, jikan), axis=1)"
      ],
      "execution_count": null,
      "outputs": []
    },
    {
      "cell_type": "code",
      "metadata": {
        "id": "YYPFRvl_5o8z"
      },
      "source": [
        "#課題用テストデータの説明変数の種類を訓練データのそれに合わせる. \n",
        "test2 = test2[X_train.columns]"
      ],
      "execution_count": null,
      "outputs": []
    },
    {
      "cell_type": "code",
      "metadata": {
        "colab": {
          "base_uri": "https://localhost:8080/"
        },
        "id": "sDTzsDi38sTA",
        "outputId": "19e7f623-f291-4b18-b3f8-293a02f58997"
      },
      "source": [
        "#お金と時間に関わる変数のNaNを中央値で埋める\n",
        "for n in na:\n",
        "  print(n)\n",
        "  test2[n] = test2[n].fillna(statistics.median(test2[n]))"
      ],
      "execution_count": null,
      "outputs": [
        {
          "output_type": "stream",
          "text": [
            "開始時刻\n",
            "終了時刻\n",
            "給与/交通費　備考\n",
            "給与/交通費　給与上限\n",
            "（紹介予定）年収・給与例\n",
            "給与/交通費　給与下限\n",
            "給与/交通費　交通費\n"
          ],
          "name": "stdout"
        }
      ]
    },
    {
      "cell_type": "code",
      "metadata": {
        "id": "fbFFMRQ14mNg"
      },
      "source": [
        "#課題用テストデータで応募者合計を予測する\n",
        "pred = reg.predict(test2)"
      ],
      "execution_count": null,
      "outputs": []
    },
    {
      "cell_type": "code",
      "metadata": {
        "id": "ni7gdJgC4whQ"
      },
      "source": [
        "#データフレームにまとめる\n",
        "ans = pd.DataFrame((jobnum, pred), index=[\"お仕事No.\", \"応募数 合計\"]).T"
      ],
      "execution_count": null,
      "outputs": []
    },
    {
      "cell_type": "code",
      "metadata": {
        "id": "FtSndy-p8Elz"
      },
      "source": [
        "#csvファイルに書き込む\n",
        "ans.to_csv(\"di.csv\", encoding = \"utf-8\", index=False)"
      ],
      "execution_count": null,
      "outputs": []
    },
    {
      "cell_type": "code",
      "metadata": {
        "colab": {
          "base_uri": "https://localhost:8080/",
          "height": 402
        },
        "id": "EU03_cK9OfKA",
        "outputId": "d0952183-c189-4a0b-c2df-35c32082775d"
      },
      "source": [
        "ans #確認用"
      ],
      "execution_count": null,
      "outputs": [
        {
          "output_type": "execute_result",
          "data": {
            "text/html": [
              "<div>\n",
              "<style scoped>\n",
              "    .dataframe tbody tr th:only-of-type {\n",
              "        vertical-align: middle;\n",
              "    }\n",
              "\n",
              "    .dataframe tbody tr th {\n",
              "        vertical-align: top;\n",
              "    }\n",
              "\n",
              "    .dataframe thead th {\n",
              "        text-align: right;\n",
              "    }\n",
              "</style>\n",
              "<table border=\"1\" class=\"dataframe\">\n",
              "  <thead>\n",
              "    <tr style=\"text-align: right;\">\n",
              "      <th></th>\n",
              "      <th>お仕事No.</th>\n",
              "      <th>応募数 合計</th>\n",
              "    </tr>\n",
              "  </thead>\n",
              "  <tbody>\n",
              "    <tr>\n",
              "      <th>0</th>\n",
              "      <td>2.203557e+09</td>\n",
              "      <td>2.158051</td>\n",
              "    </tr>\n",
              "    <tr>\n",
              "      <th>1</th>\n",
              "      <td>2.203515e+09</td>\n",
              "      <td>4.113380</td>\n",
              "    </tr>\n",
              "    <tr>\n",
              "      <th>2</th>\n",
              "      <td>2.203547e+09</td>\n",
              "      <td>3.425374</td>\n",
              "    </tr>\n",
              "    <tr>\n",
              "      <th>3</th>\n",
              "      <td>2.203545e+09</td>\n",
              "      <td>3.572912</td>\n",
              "    </tr>\n",
              "    <tr>\n",
              "      <th>4</th>\n",
              "      <td>2.203558e+09</td>\n",
              "      <td>2.214189</td>\n",
              "    </tr>\n",
              "    <tr>\n",
              "      <th>...</th>\n",
              "      <td>...</td>\n",
              "      <td>...</td>\n",
              "    </tr>\n",
              "    <tr>\n",
              "      <th>3386</th>\n",
              "      <td>2.203538e+09</td>\n",
              "      <td>0.070693</td>\n",
              "    </tr>\n",
              "    <tr>\n",
              "      <th>3387</th>\n",
              "      <td>2.203544e+09</td>\n",
              "      <td>-0.224195</td>\n",
              "    </tr>\n",
              "    <tr>\n",
              "      <th>3388</th>\n",
              "      <td>2.203557e+09</td>\n",
              "      <td>0.506288</td>\n",
              "    </tr>\n",
              "    <tr>\n",
              "      <th>3389</th>\n",
              "      <td>2.203506e+09</td>\n",
              "      <td>-0.205845</td>\n",
              "    </tr>\n",
              "    <tr>\n",
              "      <th>3390</th>\n",
              "      <td>2.203534e+09</td>\n",
              "      <td>0.449249</td>\n",
              "    </tr>\n",
              "  </tbody>\n",
              "</table>\n",
              "<p>3391 rows × 2 columns</p>\n",
              "</div>"
            ],
            "text/plain": [
              "            お仕事No.    応募数 合計\n",
              "0     2.203557e+09  2.158051\n",
              "1     2.203515e+09  4.113380\n",
              "2     2.203547e+09  3.425374\n",
              "3     2.203545e+09  3.572912\n",
              "4     2.203558e+09  2.214189\n",
              "...            ...       ...\n",
              "3386  2.203538e+09  0.070693\n",
              "3387  2.203544e+09 -0.224195\n",
              "3388  2.203557e+09  0.506288\n",
              "3389  2.203506e+09 -0.205845\n",
              "3390  2.203534e+09  0.449249\n",
              "\n",
              "[3391 rows x 2 columns]"
            ]
          },
          "metadata": {
            "tags": []
          },
          "execution_count": 314
        }
      ]
    }
  ]
}